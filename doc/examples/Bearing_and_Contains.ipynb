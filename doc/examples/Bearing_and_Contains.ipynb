{
 "cells": [
  {
   "cell_type": "code",
   "execution_count": 1,
   "metadata": {},
   "outputs": [],
   "source": [
    "import pandas as pd\n",
    "import geopandas as gpd\n",
    "import numpy as np"
   ]
  },
  {
   "cell_type": "code",
   "execution_count": 2,
   "metadata": {},
   "outputs": [
    {
     "name": "stdout",
     "output_type": "stream",
     "text": [
      "Populating the interactive namespace from numpy and matplotlib\n"
     ]
    }
   ],
   "source": [
    "%pylab inline"
   ]
  },
  {
   "cell_type": "code",
   "execution_count": 3,
   "metadata": {},
   "outputs": [],
   "source": [
    "ls8 = pd.read_excel('./LS8_cornerPts.xlsx')"
   ]
  },
  {
   "cell_type": "code",
   "execution_count": 4,
   "metadata": {},
   "outputs": [
    {
     "data": {
      "text/html": [
       "<div>\n",
       "<style scoped>\n",
       "    .dataframe tbody tr th:only-of-type {\n",
       "        vertical-align: middle;\n",
       "    }\n",
       "\n",
       "    .dataframe tbody tr th {\n",
       "        vertical-align: top;\n",
       "    }\n",
       "\n",
       "    .dataframe thead th {\n",
       "        text-align: right;\n",
       "    }\n",
       "</style>\n",
       "<table border=\"1\" class=\"dataframe\">\n",
       "  <thead>\n",
       "    <tr style=\"text-align: right;\">\n",
       "      <th></th>\n",
       "      <th>path</th>\n",
       "      <th>row</th>\n",
       "      <th>lat_CTR</th>\n",
       "      <th>lon_CTR</th>\n",
       "      <th>lat_UL</th>\n",
       "      <th>lon_UL</th>\n",
       "      <th>lat_UR</th>\n",
       "      <th>lon_UR</th>\n",
       "      <th>lat_LL</th>\n",
       "      <th>lon_LL</th>\n",
       "      <th>lat_LR</th>\n",
       "      <th>lon_LR</th>\n",
       "    </tr>\n",
       "  </thead>\n",
       "  <tbody>\n",
       "    <tr>\n",
       "      <th>0</th>\n",
       "      <td>1</td>\n",
       "      <td>1</td>\n",
       "      <td>80.774791</td>\n",
       "      <td>3.210620</td>\n",
       "      <td>81.923</td>\n",
       "      <td>5.424</td>\n",
       "      <td>80.307</td>\n",
       "      <td>9.947</td>\n",
       "      <td>81.107</td>\n",
       "      <td>-4.125</td>\n",
       "      <td>79.617</td>\n",
       "      <td>1.472</td>\n",
       "    </tr>\n",
       "    <tr>\n",
       "      <th>1</th>\n",
       "      <td>1</td>\n",
       "      <td>2</td>\n",
       "      <td>80.021757</td>\n",
       "      <td>-4.274059</td>\n",
       "      <td>81.203</td>\n",
       "      <td>-3.207</td>\n",
       "      <td>79.699</td>\n",
       "      <td>2.307</td>\n",
       "      <td>80.211</td>\n",
       "      <td>-11.194</td>\n",
       "      <td>78.838</td>\n",
       "      <td>-5.129</td>\n",
       "    </tr>\n",
       "    <tr>\n",
       "      <th>2</th>\n",
       "      <td>1</td>\n",
       "      <td>3</td>\n",
       "      <td>79.129883</td>\n",
       "      <td>-10.647337</td>\n",
       "      <td>80.322</td>\n",
       "      <td>-10.432</td>\n",
       "      <td>78.936</td>\n",
       "      <td>-4.404</td>\n",
       "      <td>79.196</td>\n",
       "      <td>-17.039</td>\n",
       "      <td>77.937</td>\n",
       "      <td>-10.831</td>\n",
       "    </tr>\n",
       "    <tr>\n",
       "      <th>3</th>\n",
       "      <td>1</td>\n",
       "      <td>4</td>\n",
       "      <td>78.130377</td>\n",
       "      <td>-16.029408</td>\n",
       "      <td>79.320</td>\n",
       "      <td>-16.409</td>\n",
       "      <td>78.048</td>\n",
       "      <td>-10.207</td>\n",
       "      <td>78.095</td>\n",
       "      <td>-21.873</td>\n",
       "      <td>76.940</td>\n",
       "      <td>-15.728</td>\n",
       "    </tr>\n",
       "    <tr>\n",
       "      <th>4</th>\n",
       "      <td>1</td>\n",
       "      <td>5</td>\n",
       "      <td>77.048078</td>\n",
       "      <td>-20.572231</td>\n",
       "      <td>78.227</td>\n",
       "      <td>-21.351</td>\n",
       "      <td>77.061</td>\n",
       "      <td>-15.193</td>\n",
       "      <td>76.927</td>\n",
       "      <td>-25.898</td>\n",
       "      <td>75.867</td>\n",
       "      <td>-19.930</td>\n",
       "    </tr>\n",
       "    <tr>\n",
       "      <th>...</th>\n",
       "      <td>...</td>\n",
       "      <td>...</td>\n",
       "      <td>...</td>\n",
       "      <td>...</td>\n",
       "      <td>...</td>\n",
       "      <td>...</td>\n",
       "      <td>...</td>\n",
       "      <td>...</td>\n",
       "      <td>...</td>\n",
       "      <td>...</td>\n",
       "      <td>...</td>\n",
       "      <td>...</td>\n",
       "    </tr>\n",
       "    <tr>\n",
       "      <th>57778</th>\n",
       "      <td>233</td>\n",
       "      <td>244</td>\n",
       "      <td>81.352691</td>\n",
       "      <td>28.155956</td>\n",
       "      <td>81.848</td>\n",
       "      <td>35.646</td>\n",
       "      <td>80.245</td>\n",
       "      <td>30.979</td>\n",
       "      <td>82.435</td>\n",
       "      <td>24.538</td>\n",
       "      <td>80.730</td>\n",
       "      <td>21.560</td>\n",
       "    </tr>\n",
       "    <tr>\n",
       "      <th>57779</th>\n",
       "      <td>233</td>\n",
       "      <td>245</td>\n",
       "      <td>81.718750</td>\n",
       "      <td>18.566867</td>\n",
       "      <td>82.387</td>\n",
       "      <td>25.777</td>\n",
       "      <td>80.691</td>\n",
       "      <td>22.590</td>\n",
       "      <td>82.696</td>\n",
       "      <td>13.461</td>\n",
       "      <td>80.942</td>\n",
       "      <td>12.495</td>\n",
       "    </tr>\n",
       "    <tr>\n",
       "      <th>57780</th>\n",
       "      <td>233</td>\n",
       "      <td>246</td>\n",
       "      <td>81.844418</td>\n",
       "      <td>8.404287</td>\n",
       "      <td>82.680</td>\n",
       "      <td>14.794</td>\n",
       "      <td>80.929</td>\n",
       "      <td>13.576</td>\n",
       "      <td>82.680</td>\n",
       "      <td>2.015</td>\n",
       "      <td>80.929</td>\n",
       "      <td>3.233</td>\n",
       "    </tr>\n",
       "    <tr>\n",
       "      <th>57781</th>\n",
       "      <td>233</td>\n",
       "      <td>247</td>\n",
       "      <td>81.718750</td>\n",
       "      <td>-1.758293</td>\n",
       "      <td>82.696</td>\n",
       "      <td>3.347</td>\n",
       "      <td>80.942</td>\n",
       "      <td>4.314</td>\n",
       "      <td>82.387</td>\n",
       "      <td>-8.969</td>\n",
       "      <td>80.691</td>\n",
       "      <td>-5.781</td>\n",
       "    </tr>\n",
       "    <tr>\n",
       "      <th>57782</th>\n",
       "      <td>233</td>\n",
       "      <td>248</td>\n",
       "      <td>81.352691</td>\n",
       "      <td>-11.347382</td>\n",
       "      <td>82.435</td>\n",
       "      <td>-7.730</td>\n",
       "      <td>80.730</td>\n",
       "      <td>-4.751</td>\n",
       "      <td>81.848</td>\n",
       "      <td>-18.838</td>\n",
       "      <td>80.245</td>\n",
       "      <td>-14.170</td>\n",
       "    </tr>\n",
       "  </tbody>\n",
       "</table>\n",
       "<p>57783 rows × 12 columns</p>\n",
       "</div>"
      ],
      "text/plain": [
       "       path  row    lat_CTR    lon_CTR  lat_UL  lon_UL  lat_UR  lon_UR  \\\n",
       "0         1    1  80.774791   3.210620  81.923   5.424  80.307   9.947   \n",
       "1         1    2  80.021757  -4.274059  81.203  -3.207  79.699   2.307   \n",
       "2         1    3  79.129883 -10.647337  80.322 -10.432  78.936  -4.404   \n",
       "3         1    4  78.130377 -16.029408  79.320 -16.409  78.048 -10.207   \n",
       "4         1    5  77.048078 -20.572231  78.227 -21.351  77.061 -15.193   \n",
       "...     ...  ...        ...        ...     ...     ...     ...     ...   \n",
       "57778   233  244  81.352691  28.155956  81.848  35.646  80.245  30.979   \n",
       "57779   233  245  81.718750  18.566867  82.387  25.777  80.691  22.590   \n",
       "57780   233  246  81.844418   8.404287  82.680  14.794  80.929  13.576   \n",
       "57781   233  247  81.718750  -1.758293  82.696   3.347  80.942   4.314   \n",
       "57782   233  248  81.352691 -11.347382  82.435  -7.730  80.730  -4.751   \n",
       "\n",
       "       lat_LL  lon_LL  lat_LR  lon_LR  \n",
       "0      81.107  -4.125  79.617   1.472  \n",
       "1      80.211 -11.194  78.838  -5.129  \n",
       "2      79.196 -17.039  77.937 -10.831  \n",
       "3      78.095 -21.873  76.940 -15.728  \n",
       "4      76.927 -25.898  75.867 -19.930  \n",
       "...       ...     ...     ...     ...  \n",
       "57778  82.435  24.538  80.730  21.560  \n",
       "57779  82.696  13.461  80.942  12.495  \n",
       "57780  82.680   2.015  80.929   3.233  \n",
       "57781  82.387  -8.969  80.691  -5.781  \n",
       "57782  81.848 -18.838  80.245 -14.170  \n",
       "\n",
       "[57783 rows x 12 columns]"
      ]
     },
     "execution_count": 4,
     "metadata": {},
     "output_type": "execute_result"
    }
   ],
   "source": [
    "ls8"
   ]
  },
  {
   "cell_type": "code",
   "execution_count": 5,
   "metadata": {},
   "outputs": [],
   "source": [
    "def bearing(lat1,lon1, lat2,lon2):\n",
    "    \"\"\"assumes lat/lon values are in decimal degrees\n",
    "    Return is in degrees Clockwise from North\"\"\"\n",
    "    lat1 = lat1*np.pi/180.\n",
    "    lat2 = lat2*np.pi/180.\n",
    "    lon1 = lon1*np.pi/180.\n",
    "    lon2 = lon2*np.pi/180.\n",
    "    # could probably just use np.radians instead...\n",
    "    \n",
    "    X = np.cos(lat2) * np.sin(lon2 - lon1)\n",
    "    Y = np.cos(lat1) * np.sin(lat2) - np.sin(lat1)*np.cos(lat2)*np.cos(lon2-lon1)\n",
    "    \n",
    "    b = np.arctan2(X,Y)\n",
    "    return(np.degrees(b))\n",
    "    "
   ]
  },
  {
   "cell_type": "markdown",
   "metadata": {
    "scrolled": false
   },
   "source": [
    "# Calculate Bearing per Row as Average\n",
    "\n",
    "Note that the `asending` and `dsending` varibles refer to direction of the moving window with regard to bearing calculation, ***not*** asending/desending paths of the satellite orbit."
   ]
  },
  {
   "cell_type": "code",
   "execution_count": 6,
   "metadata": {},
   "outputs": [],
   "source": [
    "asending = bearing(ls8.lat_CTR[248:497].values, ls8.lon_CTR[248:497].values, \n",
    "                   ls8.lat_CTR[247:496].values, ls8.lon_CTR[247:496].values)\n",
    "\n",
    "# 180 degree offset\n",
    "dsending = bearing(ls8.lat_CTR[247:496].values, ls8.lon_CTR[247:496].values, \n",
    "                   ls8.lat_CTR[248:497].values, ls8.lon_CTR[248:497].values) + 180."
   ]
  },
  {
   "cell_type": "code",
   "execution_count": 7,
   "metadata": {},
   "outputs": [
    {
     "data": {
      "text/plain": [
       "array([-68.5471715 ,  55.248417  ,  49.17526883,  44.09328389,\n",
       "        39.85039339,  36.29923427,  33.31181408,  30.78244302,\n",
       "        28.62611416,  26.77528963,  25.17616332,  23.78605686,\n",
       "        22.5706903 ,  21.50260394,  20.55943694,  19.72296397,\n",
       "        18.97820948,  18.31276116,  17.71623446,  17.17996343,\n",
       "        16.69656385,  16.25982519,  15.86436449,  15.50564017,\n",
       "        15.17964912,  14.88296161,  14.61261588,  14.36595582,\n",
       "        14.14063092,  13.93474514,  13.74633662,  13.57391654,\n",
       "        13.41603446,  13.27144632,  13.13894197,  13.01760301,\n",
       "        12.90641899,  12.80469323,  12.7115637 ,  12.62639643,\n",
       "        12.54861329,  12.4776537 ,  12.41298943,  12.35424556,\n",
       "        12.30092835,  12.25280122,  12.20934173,  12.17046202,\n",
       "        12.13574213,  12.10501573,  12.07807212,  12.05467635,\n",
       "        12.03471746,  12.01800941,  12.00448301,  11.99396665,\n",
       "        11.98647591,  11.98182633,  11.98006038,  11.9810846 ,\n",
       "        11.98499793,  11.99169398,  12.00124002,  12.01366875,\n",
       "        12.02910376,  12.04751887,  12.06906537,  12.09389429,\n",
       "        12.12209253,  12.15386506,  12.18934287,  12.22878263,\n",
       "        12.27238221,  12.32047706,  12.37326397,  12.43114492,\n",
       "        12.49442853,  12.56352763,  12.63894214,  12.72108995,\n",
       "        12.81054978,  12.9079044 ,  13.0138918 ,  13.12914872,\n",
       "        13.25455449,  13.39098813,  13.53953013,  13.7012122 ,\n",
       "        13.87737628,  14.06941669,  14.27892929,  14.50771062,\n",
       "        14.75776792,  15.0314765 ,  15.33132317,  15.66043807,\n",
       "        16.02219777,  16.42055213,  16.86013099,  17.34620105,\n",
       "        17.8851154 ,  18.484121  ,  19.15198891,  19.89898867,\n",
       "        20.7376019 ,  21.68284137,  22.75286609,  23.97002468,\n",
       "        25.3618361 ,  26.96252038,  28.81482407,  30.97241014,\n",
       "        33.50309407,  36.49155367,  40.04358166,  44.28741739,\n",
       "        49.37007218,  55.4437678 ,  62.62866182,  70.94674535,\n",
       "        80.23577233,  90.09817241,  99.96058536, 109.24940263,\n",
       "       117.567124  , 124.751583  , 130.82473117, 135.90671611,\n",
       "       140.14960661, 143.70076573, 146.68817822, 149.21756563,\n",
       "       151.37388584, 153.22471037, 154.82383668, 156.21394314,\n",
       "       157.4293097 , 158.49739606, 159.44056306, 160.27703603,\n",
       "       161.02179052, 161.68723884, 162.28374701, 162.82005594,\n",
       "       163.30343615, 163.74017481, 164.13563551, 164.49435983,\n",
       "       164.82035088, 165.11703839, 165.38738412, 165.63404418,\n",
       "       165.85934282, 166.0652818 , 166.25366338, 166.42608346,\n",
       "       166.58396554, 166.72855368, 166.86105803, 166.98239699,\n",
       "       167.09358101, 167.19530677, 167.2884363 , 167.37360357,\n",
       "       167.45138671, 167.5223463 , 167.58701057, 167.64575444,\n",
       "       167.69907165, 167.74719878, 167.79065827, 167.82953798,\n",
       "       167.86425787, 167.89498427, 167.92192788, 167.94532365,\n",
       "       167.96528254, 167.98199059, 167.99551699, 168.00603335,\n",
       "       168.01352409, 168.01817367, 168.01993962, 168.0189154 ,\n",
       "       168.01500207, 168.00830602, 167.99875998, 167.98633125,\n",
       "       167.97089624, 167.95248113, 167.93093463, 167.90610571,\n",
       "       167.87790747, 167.84613494, 167.81065713, 167.77121737,\n",
       "       167.72761779, 167.67952294, 167.62673603, 167.56885508,\n",
       "       167.50557147, 167.43647237, 167.36105786, 167.27891005,\n",
       "       167.18945022, 167.0920956 , 166.9861082 , 166.87085128,\n",
       "       166.74544551, 166.60901187, 166.46046987, 166.2987878 ,\n",
       "       166.12262372, 165.93058331, 165.72107071, 165.49228938,\n",
       "       165.24223208, 164.9685235 , 164.66867683, 164.33956193,\n",
       "       163.97780223, 163.57944787, 163.13986901, 162.65379895,\n",
       "       162.1148846 , 161.515879  , 160.84801109, 160.10101133,\n",
       "       159.2623981 , 158.31715863, 157.24713391, 156.02997532,\n",
       "       154.6381506 , 153.03749201, 151.18517593, 149.02756878,\n",
       "       146.49695397, 143.50843766, 139.95637202, 135.71263675,\n",
       "       130.62992201, 124.55623705, 117.37130709, 109.05327216,\n",
       "        99.76422962,  89.90182759,  80.03941464,  70.75060025,\n",
       "       -68.54717195])"
      ]
     },
     "execution_count": 7,
     "metadata": {},
     "output_type": "execute_result"
    }
   ],
   "source": [
    "asending"
   ]
  },
  {
   "cell_type": "code",
   "execution_count": 8,
   "metadata": {},
   "outputs": [
    {
     "data": {
      "text/plain": [
       "array([277.06949371,  62.62869291,  55.4437581 ,  49.3700838 ,\n",
       "        44.28736325,  40.04362026,  36.49156234,  33.50305564,\n",
       "        30.97243122,  28.81482407,  26.96250799,  25.3618494 ,\n",
       "        23.97001047,  22.75286609,  21.68284137,  20.73761875,\n",
       "        19.89898867,  19.15197035,  18.484121  ,  17.8851154 ,\n",
       "        17.34622209,  16.86013099,  16.42055213,  16.02219777,\n",
       "        15.66043807,  15.33132317,  15.03145092,  14.7577942 ,\n",
       "        14.50768366,  14.27895692,  14.06941669,  13.87737628,\n",
       "        13.7012122 ,  13.53953013,  13.39098813,  13.25455449,\n",
       "        13.12911696,  13.0138918 ,  12.90793717,  12.81054978,\n",
       "        12.72108995,  12.63894214,  12.56352763,  12.49442853,\n",
       "        12.43110965,  12.37329958,  12.32044114,  12.27241842,\n",
       "        12.22878263,  12.18934287,  12.15386506,  12.12209253,\n",
       "        12.09389429,  12.06906537,  12.04751887,  12.02906604,\n",
       "        12.01370656,  12.00124002,  11.99169398,  11.98496002,\n",
       "        11.98112249,  11.98006038,  11.98182633,  11.98643819,\n",
       "        11.99400426,  12.00448301,  12.01800941,  12.03471746,\n",
       "        12.05467635,  12.07807212,  12.10501573,  12.13574213,\n",
       "        12.17042611,  12.20937732,  12.25276597,  12.30096323,\n",
       "        12.35424556,  12.41298943,  12.4776537 ,  12.54861329,\n",
       "        12.62639643,  12.71153145,  12.80469323,  12.9064502 ,\n",
       "        13.01760301,  13.13894197,  13.27144632,  13.41603446,\n",
       "        13.57391654,  13.74633662,  13.9347182 ,  14.14065718,\n",
       "        14.36593027,  14.61264071,  14.88296161,  15.17964912,\n",
       "        15.50564017,  15.86436449,  16.25982519,  16.69654365,\n",
       "        17.17996343,  17.71623446,  18.31277885,  18.97820948,\n",
       "        19.72294801,  20.55943694,  21.50260394,  22.57070358,\n",
       "        23.78604449,  25.17617477,  26.77528963,  28.62609498,\n",
       "        30.7824776 ,  33.31180638,  36.29920053,  39.85043972,\n",
       "        44.09327423,  49.17527656,  55.2483938 ,  62.43288759,\n",
       "        70.75060121,  80.03941464,  89.90182759,  99.76423547,\n",
       "       109.05327216, 117.37130709, 124.5562419 , 130.6299162 ,\n",
       "       135.71263675, 139.95637974, 143.50842899, 146.49695397,\n",
       "       149.02756878, 151.18517593, 153.03749201, 154.6381506 ,\n",
       "       156.02998953, 157.24713391, 158.31715863, 159.26238125,\n",
       "       160.10101133, 160.84802965, 161.51585961, 162.11490482,\n",
       "       162.65377791, 163.13986901, 163.57944787, 163.97780223,\n",
       "       164.33956193, 164.66867683, 164.96854908, 165.2422058 ,\n",
       "       165.49228938, 165.72107071, 165.93058331, 166.12262372,\n",
       "       166.2987878 , 166.46046987, 166.60901187, 166.74544551,\n",
       "       166.87088304, 166.9861082 , 167.09206283, 167.18945022,\n",
       "       167.27891005, 167.36105786, 167.43647237, 167.50557147,\n",
       "       167.56889035, 167.62670042, 167.67955886, 167.72758158,\n",
       "       167.77121737, 167.81065713, 167.84613494, 167.87790747,\n",
       "       167.90610571, 167.93093463, 167.95248113, 167.97093396,\n",
       "       167.98629344, 167.99875998, 168.00830602, 168.01503998,\n",
       "       168.01887751, 168.01993962, 168.01817367, 168.01356181,\n",
       "       168.00599574, 167.99551699, 167.98199059, 167.96528254,\n",
       "       167.94532365, 167.92192788, 167.89498427, 167.86425787,\n",
       "       167.82957389, 167.79062268, 167.74723403, 167.69903677,\n",
       "       167.64575444, 167.58701057, 167.5223463 , 167.45138671,\n",
       "       167.37360357, 167.28846855, 167.19530677, 167.0935498 ,\n",
       "       166.98239699, 166.86105803, 166.72855368, 166.58396554,\n",
       "       166.42608346, 166.25366338, 166.0652818 , 165.85934282,\n",
       "       165.63406973, 165.38735929, 165.11703839, 164.82035088,\n",
       "       164.49435983, 164.13563551, 163.74017481, 163.30345635,\n",
       "       162.82003657, 162.28376554, 161.68722115, 161.02179052,\n",
       "       160.27705199, 159.44056306, 158.49739606, 157.42929642,\n",
       "       156.21394314, 154.82383668, 153.22471037, 151.37388584,\n",
       "       149.21756563, 146.68818592, 143.70075898, 140.14960661,\n",
       "       135.90672094, 130.8247273 , 124.751583  , 117.567124  ,\n",
       "       109.24939975,  99.96058536,  90.09817241,  80.23577038,\n",
       "       277.06949226])"
      ]
     },
     "execution_count": 8,
     "metadata": {},
     "output_type": "execute_result"
    }
   ],
   "source": [
    "dsending"
   ]
  },
  {
   "cell_type": "code",
   "execution_count": 9,
   "metadata": {},
   "outputs": [
    {
     "data": {
      "text/plain": [
       "248"
      ]
     },
     "execution_count": 9,
     "metadata": {},
     "output_type": "execute_result"
    }
   ],
   "source": [
    "means = np.mean([asending[0:-1], dsending[1:]], axis=0)\n",
    "# Replace invalid first value with non-averaged valid value\n",
    "means[0] = dsending[1]\n",
    "# Same for last, but on other array\n",
    "means[-1] = asending[-2]\n",
    "len(means)"
   ]
  },
  {
   "cell_type": "code",
   "execution_count": 10,
   "metadata": {},
   "outputs": [
    {
     "data": {
      "text/plain": [
       "array([ 62.62869291,  55.34608755,  49.27267632,  44.19032357,\n",
       "        39.94700683,  36.39539831,  33.40743486,  30.87743712,\n",
       "        28.72046912,  26.86889881,  25.26900636,  23.87803367,\n",
       "        22.66177819,  21.59272266,  20.64852785,  19.81097632,\n",
       "        19.06508991,  18.39844108,  17.80067493,  17.26309276,\n",
       "        16.77834742,  16.34018866,  15.94328113,  15.58303912,\n",
       "        15.25548615,  14.95720626,  14.68520504,  14.43681974,\n",
       "        14.20979392,  14.00208091,  13.81185645,  13.63756437,\n",
       "        13.4777823 ,  13.33121723,  13.19674823,  13.07335998,\n",
       "        12.9601554 ,  12.8563152 ,  12.76105674,  12.67374319,\n",
       "        12.59377772,  12.52059066,  12.45370898,  12.39267761,\n",
       "        12.33711396,  12.28662118,  12.24088008,  12.19962232,\n",
       "        12.1625425 ,  12.12944039,  12.10008232,  12.07428532,\n",
       "        12.05189141,  12.03276414,  12.01677452,  12.0038366 ,\n",
       "        11.99385796,  11.98676015,  11.9825102 ,  11.98110355,\n",
       "        11.98252915,  11.98676015,  11.99383911,  12.00383651,\n",
       "        12.01679338,  12.03276414,  12.05189141,  12.07428532,\n",
       "        12.10008232,  12.12944039,  12.1625425 ,  12.19960437,\n",
       "        12.24087976,  12.28662151,  12.3371136 ,  12.39269524,\n",
       "        12.45370898,  12.52059066,  12.59377772,  12.67374319,\n",
       "        12.76104062,  12.85629881,  12.960171  ,  13.07337587,\n",
       "        13.19674823,  13.33121723,  13.4777823 ,  13.63756437,\n",
       "        13.81185645,  14.00206744,  14.20979323,  14.43682045,\n",
       "        14.68520432,  14.95721905,  15.25548615,  15.58303912,\n",
       "        15.94328113,  16.34018866,  16.77833732,  17.26308224,\n",
       "        17.80067493,  18.39844992,  19.0650992 ,  19.81096834,\n",
       "        20.64851942,  21.59272266,  22.66178483,  23.87803459,\n",
       "        25.26900544,  26.86890501,  28.72045953,  30.87744387,\n",
       "        33.40745023,  36.3953771 ,  39.94701069,  44.19034581,\n",
       "        49.27267437,  55.3460808 ,  62.5307747 ,  70.84867328,\n",
       "        80.13759349,  90.        ,  99.86241042, 109.1513374 ,\n",
       "       117.46921554, 124.65391245, 130.72732368, 135.80967643,\n",
       "       140.05299317, 143.60459736, 146.5925661 , 149.1225672 ,\n",
       "       151.27953088, 153.13110119, 154.73099364, 156.12196633,\n",
       "       157.33822181, 158.40727734, 159.35147215, 160.18902368,\n",
       "       160.93491009, 161.60154922, 162.19932591, 162.73691693,\n",
       "       163.22165258, 163.65981134, 164.05671887, 164.41696088,\n",
       "       164.74451385, 165.04279374, 165.31479496, 165.56316678,\n",
       "       165.79020677, 165.99793256, 166.18814355, 166.36243563,\n",
       "       166.5222177 , 166.66878277, 166.80325177, 166.92664002,\n",
       "       167.0398446 , 167.1436848 , 167.23894326, 167.32625681,\n",
       "       167.40622228, 167.47940934, 167.54629102, 167.60732239,\n",
       "       167.66288604, 167.71337882, 167.75911992, 167.80037768,\n",
       "       167.8374575 , 167.87055961, 167.89991768, 167.92571468,\n",
       "       167.94810859, 167.96723586, 167.98322548, 167.9961634 ,\n",
       "       168.00614204, 168.01323985, 168.0174898 , 168.01889645,\n",
       "       168.01747085, 168.01323985, 168.00616089, 167.99616349,\n",
       "       167.98320662, 167.96723586, 167.94810859, 167.92571468,\n",
       "       167.89991768, 167.87055961, 167.8374575 , 167.80039563,\n",
       "       167.75912024, 167.71337849, 167.6628864 , 167.60730476,\n",
       "       167.54629102, 167.47940934, 167.40622228, 167.32625681,\n",
       "       167.23895938, 167.14370119, 167.039829  , 166.92662413,\n",
       "       166.80325177, 166.66878277, 166.5222177 , 166.36243563,\n",
       "       166.18814355, 165.99793256, 165.79020677, 165.56317955,\n",
       "       165.31479568, 165.04278095, 164.74451385, 164.41696088,\n",
       "       164.05671887, 163.65981134, 163.22166268, 162.73691776,\n",
       "       162.19932507, 161.60155008, 160.9349008 , 160.18903166,\n",
       "       159.35148058, 158.40727734, 157.33821517, 156.12195923,\n",
       "       154.73099364, 153.13110119, 151.27953088, 149.1225672 ,\n",
       "       146.59256995, 143.60459832, 140.05298931, 135.80967884,\n",
       "       130.72732466, 124.65391002, 117.46921554, 109.15133595,\n",
       "        99.86240749,  90.        ,  80.13759251,  70.75060025])"
      ]
     },
     "execution_count": 10,
     "metadata": {},
     "output_type": "execute_result"
    }
   ],
   "source": [
    "means"
   ]
  },
  {
   "cell_type": "code",
   "execution_count": 11,
   "metadata": {},
   "outputs": [
    {
     "data": {
      "text/plain": [
       "[<matplotlib.lines.Line2D at 0x7f513b7a7e50>]"
      ]
     },
     "execution_count": 11,
     "metadata": {},
     "output_type": "execute_result"
    },
    {
     "data": {
      "image/png": "[encoded data removed]",
      "text/plain": [
       "<Figure size 432x288 with 1 Axes>"
      ]
     },
     "metadata": {
      "needs_background": "light"
     },
     "output_type": "display_data"
    }
   ],
   "source": [
    "plot(bearing(ls8.lat_CTR[1:248].values, ls8.lon_CTR[1:248].values, \n",
    "        ls8.lat_CTR[0:247].values, ls8.lon_CTR[0:247].values))\n",
    "plot(means)"
   ]
  },
  {
   "cell_type": "markdown",
   "metadata": {},
   "source": [
    "# Jonathan's Contains Code"
   ]
  },
  {
   "cell_type": "markdown",
   "metadata": {},
   "source": [
    "Let $C$ be the center point and $\\theta$ is the tilt angle there is a corresponding \"unit tangent vector\" to the sphere with that tilt. Call this vector $v$."
   ]
  },
  {
   "cell_type": "markdown",
   "metadata": {},
   "source": [
    "To move $C$ along $v$ a distance $D$ in a sphere of radius $R$ is something like\n",
    "\n",
    "$$\n",
    "P_1  = \\cos(A) \\cdot C + R\\cdot \\sin (A) \\cdot v\n",
    "$$\n",
    "where $A$ corresponds to 90km in radians. This is `midpt_1` in code below. Moving in the direction $-v$\n",
    "yields\n",
    "$$\n",
    "P_2  = \\cos(A) \\cdot C - R\\cdot \\sin (A) \\cdot v\n",
    "$$\n",
    "which is referred to as `midpt_2` below."
   ]
  },
  {
   "cell_type": "code",
   "execution_count": 12,
   "metadata": {},
   "outputs": [],
   "source": [
    "import numpy as np\n",
    "import functools \n",
    "lat_deg, lon_deg = 77.875, -20.975\n",
    "lat, lon, R, theta = lat_deg*(2*np.pi)/360, lon_deg*(2*np.pi)/360, 6371, -70 * 2 * np.pi / 360\n",
    "boulder_lat, boulder_lon = lat, lon\n",
    "x, y, z = (R * np.cos(lat) * np.sin(lon), R * np.cos(lat) * np.cos(lon), R * np.sin(lat))\n",
    "C = np.array([x,y,z])"
   ]
  },
  {
   "cell_type": "markdown",
   "metadata": {},
   "source": [
    "## Computing $v$ from $\\theta$\n",
    "\n",
    "At a point $C=[x,y,z]$, a tilt can be thought of as moving through lat and lon along a line with direction vector $d=(d_lon, d_lat)$, so we have \n",
    "in parameters $t$\n",
    "$$\n",
    "x(t), y(t), z(t) = (R * \\cos(lat_0 + t dlat) * \\cos(lon_0 + t dlon), R * \\cos(lat_0 + t dlat) * \\sin(lon_0 + t dlon), R * \\sin(lat_0 + t dlat))\n",
    "$$"
   ]
  },
  {
   "cell_type": "markdown",
   "metadata": {},
   "source": [
    "Differentiating with respect to $t$\n",
    "(ignoring the $R$ scaling as we want normalized $v$) we see $v$ is parallel\n",
    "to \n",
    "$$\n",
    "R\\cdot (-\\sin (lat_0) \\cos(lon_0) dlat - \\cos(lat_0) \\sin(lon_0) dlon, -\\sin(lat_0) \\sin(lon_0) dlat + \\cos(lat_0) \\cos(lon_0) dlon, \\cos(lat_0) dlat)\n",
    "$$"
   ]
  },
  {
   "cell_type": "code",
   "execution_count": 13,
   "metadata": {},
   "outputs": [
    {
     "data": {
      "text/plain": [
       "0.0"
      ]
     },
     "execution_count": 13,
     "metadata": {},
     "output_type": "execute_result"
    }
   ],
   "source": [
    "dlat, dlon = np.sin(theta), np.cos(theta)\n",
    "v = np.array([-np.sin(lat) * np.sin(lon) * dlat + np.cos(lat) * np.cos(lon) * dlon,\n",
    "              -np.sin(lat) * np.cos(lon) * dlat - np.cos(lat) * np.sin(lon) * dlon,\n",
    "              np.cos(lat) * dlat])\n",
    "v /= np.linalg.norm(v) \n",
    "np.sum(v*C)"
   ]
  },
  {
   "cell_type": "markdown",
   "metadata": {},
   "source": [
    "The angle $A$ is \n",
    "$$\n",
    "\\frac{A}{2\\pi} = \\frac{90km}{2 \\pi \\cdot 6371km}\n",
    "$$"
   ]
  },
  {
   "cell_type": "code",
   "execution_count": 14,
   "metadata": {},
   "outputs": [
    {
     "data": {
      "text/plain": [
       "0.014126510751844295"
      ]
     },
     "execution_count": 14,
     "metadata": {},
     "output_type": "execute_result"
    }
   ],
   "source": [
    "A = 90/R\n",
    "A"
   ]
  },
  {
   "cell_type": "code",
   "execution_count": 15,
   "metadata": {},
   "outputs": [
    {
     "data": {
      "text/plain": [
       "(89.9992516582193, 0.9999002225062911, 0.9999002225062912)"
      ]
     },
     "execution_count": 15,
     "metadata": {},
     "output_type": "execute_result"
    }
   ],
   "source": [
    "midpt_1 = np.cos(A) * C + R * np.sin(A) * v\n",
    "np.linalg.norm(midpt_1 - C), np.dot(midpt_1, C) / R**2, np.cos(A)"
   ]
  },
  {
   "cell_type": "markdown",
   "metadata": {},
   "source": [
    "To find next corner, we move $\\perp$ to $v$.\n",
    "That direction can be found by\n",
    "$$\n",
    "v \\times P_1.\n",
    "$$\n",
    "Let $v^{\\perp}$ be the unit vector in this direction."
   ]
  },
  {
   "cell_type": "code",
   "execution_count": 16,
   "metadata": {},
   "outputs": [
    {
     "data": {
      "text/plain": [
       "array([-0.95769775, -0.28733023, -0.01601127])"
      ]
     },
     "execution_count": 16,
     "metadata": {},
     "output_type": "execute_result"
    }
   ],
   "source": [
    "v_perp = np.cross(midpt_1, v) # == np.cross(C, v)\n",
    "v_perp /= np.linalg.norm(v_perp)\n",
    "v_perp"
   ]
  },
  {
   "cell_type": "markdown",
   "metadata": {},
   "source": [
    "We will then move 92.5km from $P_1$ in the direction \n",
    "$$\n",
    "P_2 = \\cos(B) \\cdot P_1 + R \\cdot \\sin(B) \\cdot v^{\\perp}\n",
    "$$\n",
    "where\n",
    "$$\n",
    "\\frac{B}{2\\pi} = \\frac{92.5km}{6371km}\n",
    "$$"
   ]
  },
  {
   "cell_type": "code",
   "execution_count": 17,
   "metadata": {},
   "outputs": [
    {
     "data": {
      "text/plain": [
       "[array([-592.50445431, 1307.05760939, 6207.2683104 ]),\n",
       " array([-415.33659543, 1360.21183452, 6210.23029184]),\n",
       " array([-542.51096281, 1138.32435259, 6244.96121073]),\n",
       " array([-365.34310393, 1191.47857771, 6247.92319217])]"
      ]
     },
     "execution_count": 17,
     "metadata": {},
     "output_type": "execute_result"
    }
   ],
   "source": [
    "B = 92.5/6371\n",
    "corners = [np.cos(B) * midpt_1 + R * np.sin(B) * v_perp]\n",
    "corners.append(np.cos(B) * midpt_1 - R * np.sin(B) * v_perp)\n",
    "\n",
    "v_perp = np.cross(midpt_1, v) # == np.cross(C, v)\n",
    "v_perp /= np.linalg.norm(v_perp)\n",
    "v_perp\n",
    "midpt_2 = np.cos(A) * C - R * np.sin(A) * v\n",
    "corners.append(np.cos(B) * midpt_2 + R * np.sin(B) * v_perp)\n",
    "corners.append(np.cos(B) * midpt_2 - R * np.sin(B) * v_perp)\n",
    "\n",
    "corners"
   ]
  },
  {
   "cell_type": "code",
   "execution_count": 18,
   "metadata": {},
   "outputs": [
    {
     "data": {
      "text/plain": [
       "[6370.999999999999, 6370.999999999999, 6371.000000000001, 6371.0]"
      ]
     },
     "execution_count": 18,
     "metadata": {},
     "output_type": "execute_result"
    }
   ],
   "source": [
    "[np.linalg.norm(corner) for corner in corners]"
   ]
  },
  {
   "cell_type": "markdown",
   "metadata": {},
   "source": [
    "We can find another corner\n",
    "$$\n",
    "\\cos(A') \\cdot P_1 - R \\cdot \\sin(A') \\cdot v^{\\perp}\n",
    "$$ \n",
    "and similarly other corners."
   ]
  },
  {
   "cell_type": "markdown",
   "metadata": {},
   "source": [
    "### Now convert back to lat lon"
   ]
  },
  {
   "cell_type": "code",
   "execution_count": 19,
   "metadata": {},
   "outputs": [
    {
     "data": {
      "text/plain": [
       "[76.98228647840101, 77.10107655680675, 78.58424793008591, 78.71962386426219]"
      ]
     },
     "execution_count": 19,
     "metadata": {},
     "output_type": "execute_result"
    }
   ],
   "source": [
    "lat_degs = [np.arcsin(z_ / R) / (2 * np.pi) * 360 for x_, y_, z_ in corners]\n",
    "lat_degs"
   ]
  },
  {
   "cell_type": "code",
   "execution_count": 20,
   "metadata": {},
   "outputs": [
    {
     "data": {
      "text/plain": [
       "[-24.385340987196802,\n",
       " -16.979893384135025,\n",
       " -25.481877244698317,\n",
       " -17.047111911561473]"
      ]
     },
     "execution_count": 20,
     "metadata": {},
     "output_type": "execute_result"
    }
   ],
   "source": [
    "lon_degs = [np.arctan2(x_ / R, y_ / R) / (2 * np.pi) * 360 for x_, y_, z_ in corners]\n",
    "lon_degs"
   ]
  },
  {
   "cell_type": "code",
   "execution_count": 21,
   "metadata": {},
   "outputs": [],
   "source": [
    "%matplotlib inline\n",
    "import matplotlib.pyplot as plt"
   ]
  },
  {
   "cell_type": "code",
   "execution_count": 22,
   "metadata": {},
   "outputs": [
    {
     "data": {
      "text/plain": [
       "<matplotlib.collections.PathCollection at 0x7f513c304df0>"
      ]
     },
     "execution_count": 22,
     "metadata": {},
     "output_type": "execute_result"
    },
    {
     "data": {
      "image/png": "[encoded data removed]",
      "text/plain": [
       "<Figure size 432x288 with 1 Axes>"
      ]
     },
     "metadata": {
      "needs_background": "light"
     },
     "output_type": "display_data"
    }
   ],
   "source": [
    "plt.scatter(lon_degs, lat_degs)\n",
    "plt.scatter([lon_deg], [lat_deg])"
   ]
  },
  {
   "cell_type": "markdown",
   "metadata": {},
   "source": [
    "### A representation of the scene that implements `contains`"
   ]
  },
  {
   "cell_type": "code",
   "execution_count": 23,
   "metadata": {},
   "outputs": [],
   "source": [
    "def representation(center_lon,  # in radians\n",
    "                   center_lat,  # in radians\n",
    "                   instrument_tilt, # in degrees, rotation clockwise\n",
    "                   len_lon=180, # extent in km\n",
    "                   len_lat=185, # extent in km\n",
    "                   R=6371):      # \"radius\" of earth\n",
    "\n",
    "    tilt_deg = instrument_tilt * 2 * np.pi / 360\n",
    "\n",
    "    x, y, z = (R * np.cos(center_lat) *\n",
    "               np.sin(center_lon),\n",
    "               R * np.cos(center_lat) *\n",
    "               np.cos(center_lon), R * np.sin(center_lat))\n",
    "    C = np.array([x,y,z]) # center of scene\n",
    "\n",
    "    dlat, dlon = np.sin(-tilt_deg), np.cos(-tilt_deg)\n",
    "    dir_lon = np.array([-np.sin(center_lat) * np.sin(center_lon) * dlat +\n",
    "                       np.cos(center_lat) * np.cos(center_lon) * dlon,\n",
    "                       -np.sin(center_lat) * np.cos(center_lon) * dlat -\n",
    "                       np.cos(center_lat) * np.sin(center_lon) * dlon,\n",
    "                       np.cos(center_lat) * dlat])\n",
    "    dir_lon /= np.linalg.norm(dir_lon) \n",
    "\n",
    "    A = len_lon / 2 / R\n",
    "    midpt_1 = np.cos(A) * C + R * np.sin(A) * dir_lon\n",
    "\n",
    "    dir_lat = np.cross(midpt_1, dir_lon)\n",
    "    dir_lat /= np.linalg.norm(dir_lat)\n",
    "\n",
    "    B = len_lat/ 2 / R\n",
    "\n",
    "    corners = [np.cos(B) * midpt_1 + R * np.sin(B) * dir_lat]\n",
    "    corners.append(np.cos(B) * midpt_1 - R * np.sin(B) * dir_lat)\n",
    "\n",
    "    midpt_2 = np.cos(A) * C - R * np.sin(A) * dir_lon\n",
    "    corners.append(np.cos(B) * midpt_2 + R * np.sin(B) * dir_lat)\n",
    "    corners.append(np.cos(B) * midpt_2 - R * np.sin(B) * dir_lat)\n",
    "    corners = np.array(corners)\n",
    "    \n",
    "    corners_lon_lat = np.array([(np.arctan2(x_ / R, y_ / R),\n",
    "                                 np.arcsin(z_ / R)) for x_, y_, z_ in corners])\n",
    "\n",
    "    # now work out halfspace\n",
    "\n",
    "    # these are the edge segmentsin lon/lat space\n",
    "    supports = [corners_lon_lat[0]-corners_lon_lat[1],\n",
    "                corners_lon_lat[0]-corners_lon_lat[2],\n",
    "                corners_lon_lat[1]-corners_lon_lat[3],\n",
    "                corners_lon_lat[2]-corners_lon_lat[3]] \n",
    "\n",
    "    # normals to each edge segment\n",
    "    normals = np.array([(s[1],-s[0]) for s in supports])\n",
    "    pts = [corners_lon_lat[0],   # a point within each edge\n",
    "           corners_lon_lat[0],\n",
    "           corners_lon_lat[1],\n",
    "           corners_lon_lat[3]]\n",
    "    bdry_values = np.array([np.sum(n * p) for n, p in zip(normals, pts)])\n",
    "    center_values = [np.sum(n * [center_lon, center_lat]) for n in normals]\n",
    "    center_signs = np.sign(center_values - bdry_values)\n",
    "\n",
    "    def _check(normals, center_signs, bdry_values, lon_lat_vals):\n",
    "        normal_mul = np.asarray(lon_lat_vals).dot(normals.T)\n",
    "        values_ = normal_mul - bdry_values[None,:]\n",
    "        signs_ = np.sign(values_) * center_signs[None,:]\n",
    "        return np.squeeze(np.all(signs_ == 1, 1))\n",
    "\n",
    "    _check = functools.partial(_check, normals, center_signs, bdry_values)\n",
    "        \n",
    "    return corners_lon_lat, _check, normals, bdry_values, center_signs\n"
   ]
  },
  {
   "cell_type": "markdown",
   "metadata": {},
   "source": [
    "### What needs to be stored\n",
    "\n",
    "- We need to store `normals`, `bdry_values` and `center_signs` for each scene."
   ]
  },
  {
   "cell_type": "code",
   "execution_count": 24,
   "metadata": {},
   "outputs": [],
   "source": [
    "corners, contains, normals, bdry_values, center_signs = representation(radians(-10.647337), \n",
    "                                                                       radians(79.129883), \n",
    "                                                                       49.27267632,\n",
    "                                                                       len_lat=200, \n",
    "                                                                       len_lon=200)"
   ]
  },
  {
   "cell_type": "markdown",
   "metadata": {},
   "source": [
    "### How `contains` is determined\n",
    "\n",
    "- Function can check several query points at once....\n"
   ]
  },
  {
   "cell_type": "code",
   "execution_count": 25,
   "metadata": {},
   "outputs": [],
   "source": [
    "def _check(normals, center_signs, bdry_values, lon_lat_vals):\n",
    "    normal_mul = np.asarray(lon_lat_vals).dot(normals.T)\n",
    "    values_ = normal_mul - bdry_values[None,:]\n",
    "    signs_ = np.sign(values_) * center_signs[None,:]\n",
    "    return np.squeeze(np.all(signs_ == 1, 1))\n",
    "import functools\n",
    "\n",
    "contains = functools.partial(_check, normals, center_signs, bdry_values)"
   ]
  },
  {
   "cell_type": "markdown",
   "metadata": {},
   "source": [
    "# Comparing Landsat footprints"
   ]
  },
  {
   "cell_type": "code",
   "execution_count": 26,
   "metadata": {},
   "outputs": [],
   "source": [
    "def get_corners(i):\n",
    "    corners = np.zeros((4,2))\n",
    "    row = ls8[i:i+1]\n",
    "    corners[0,1] = row.lat_UL.values\n",
    "    corners[1,1] = row.lat_UR.values\n",
    "    corners[2,1] = row.lat_LL.values\n",
    "    corners[3,1] = row.lat_LR.values\n",
    "    corners[0,0] = row.lon_UL.values\n",
    "    corners[1,0] = row.lon_UR.values\n",
    "    corners[2,0] = row.lon_LL.values\n",
    "    corners[3,0] = row.lon_LR.values\n",
    "    return corners"
   ]
  },
  {
   "cell_type": "code",
   "execution_count": 27,
   "metadata": {},
   "outputs": [
    {
     "data": {
      "text/html": [
       "<div>\n",
       "<style scoped>\n",
       "    .dataframe tbody tr th:only-of-type {\n",
       "        vertical-align: middle;\n",
       "    }\n",
       "\n",
       "    .dataframe tbody tr th {\n",
       "        vertical-align: top;\n",
       "    }\n",
       "\n",
       "    .dataframe thead th {\n",
       "        text-align: right;\n",
       "    }\n",
       "</style>\n",
       "<table border=\"1\" class=\"dataframe\">\n",
       "  <thead>\n",
       "    <tr style=\"text-align: right;\">\n",
       "      <th></th>\n",
       "      <th>path</th>\n",
       "      <th>row</th>\n",
       "      <th>lat_CTR</th>\n",
       "      <th>lon_CTR</th>\n",
       "      <th>lat_UL</th>\n",
       "      <th>lon_UL</th>\n",
       "      <th>lat_UR</th>\n",
       "      <th>lon_UR</th>\n",
       "      <th>lat_LL</th>\n",
       "      <th>lon_LL</th>\n",
       "      <th>lat_LR</th>\n",
       "      <th>lon_LR</th>\n",
       "    </tr>\n",
       "  </thead>\n",
       "  <tbody>\n",
       "    <tr>\n",
       "      <th>1</th>\n",
       "      <td>1</td>\n",
       "      <td>2</td>\n",
       "      <td>80.021757</td>\n",
       "      <td>-4.274059</td>\n",
       "      <td>81.203</td>\n",
       "      <td>-3.207</td>\n",
       "      <td>79.699</td>\n",
       "      <td>2.307</td>\n",
       "      <td>80.211</td>\n",
       "      <td>-11.194</td>\n",
       "      <td>78.838</td>\n",
       "      <td>-5.129</td>\n",
       "    </tr>\n",
       "  </tbody>\n",
       "</table>\n",
       "</div>"
      ],
      "text/plain": [
       "   path  row    lat_CTR   lon_CTR  lat_UL  lon_UL  lat_UR  lon_UR  lat_LL  \\\n",
       "1     1    2  80.021757 -4.274059  81.203  -3.207  79.699   2.307  80.211   \n",
       "\n",
       "   lon_LL  lat_LR  lon_LR  \n",
       "1 -11.194  78.838  -5.129  "
      ]
     },
     "execution_count": 27,
     "metadata": {},
     "output_type": "execute_result"
    }
   ],
   "source": [
    "ls8[1:2]"
   ]
  },
  {
   "cell_type": "code",
   "execution_count": 28,
   "metadata": {},
   "outputs": [
    {
     "data": {
      "text/plain": [
       "array([[-49.603,  56.91 ],\n",
       "       [-46.533,  56.457],\n",
       "       [-50.387,  55.337],\n",
       "       [-47.43 ,  54.902]])"
      ]
     },
     "execution_count": 28,
     "metadata": {},
     "output_type": "execute_result"
    }
   ],
   "source": [
    "get_corners(20)"
   ]
  },
  {
   "cell_type": "code",
   "execution_count": 29,
   "metadata": {},
   "outputs": [
    {
     "data": {
      "text/plain": [
       "array([[-47.93439795,  54.7937516 ],\n",
       "       [-46.49480285,  56.24430481],\n",
       "       [-50.44378113,  55.54622216],\n",
       "       [-49.07248444,  57.02574522]])"
      ]
     },
     "execution_count": 29,
     "metadata": {},
     "output_type": "execute_result"
    }
   ],
   "source": [
    "scene = ls8[20:21]\n",
    "# Change scene index above... need i and i+1 since pandas expects slice\n",
    "\n",
    "corners, contains, _, _, _ = representation(radians(scene.lon_CTR.values)[0], \n",
    "                                            radians(scene.lat_CTR.values)[0], \n",
    "                                            means[scene.row.values -1][0])\n",
    "np.degrees(corners)"
   ]
  },
  {
   "cell_type": "code",
   "execution_count": 30,
   "metadata": {},
   "outputs": [
    {
     "data": {
      "text/plain": [
       "array([[-47.88144507,  54.80264475],\n",
       "       [-46.47993565,  56.21360348],\n",
       "       [-50.46148037,  55.5763997 ],\n",
       "       [-49.12827268,  57.01632719]])"
      ]
     },
     "execution_count": 30,
     "metadata": {},
     "output_type": "execute_result"
    }
   ],
   "source": [
    "# Swapping swadth dimentions...\n",
    "scene = ls8[20:21]\n",
    "# Change scene index above... need i and i+1 since pandas expects slice\n",
    "\n",
    "corners1, contains, _, _, _ = representation(radians(scene.lon_CTR.values)[0], \n",
    "                                            radians(scene.lat_CTR.values)[0], \n",
    "                                            means[scene.row.values -1][0],\n",
    "                                            len_lon=185,\n",
    "                                            len_lat=180)\n",
    "np.degrees(corners1)"
   ]
  },
  {
   "cell_type": "code",
   "execution_count": 31,
   "metadata": {},
   "outputs": [
    {
     "data": {
      "text/plain": [
       "16.778347418472123"
      ]
     },
     "execution_count": 31,
     "metadata": {},
     "output_type": "execute_result"
    }
   ],
   "source": [
    "means[20]"
   ]
  },
  {
   "cell_type": "code",
   "execution_count": 32,
   "metadata": {},
   "outputs": [
    {
     "data": {
      "text/plain": [
       "[<matplotlib.lines.Line2D at 0x7f513cd1cca0>]"
      ]
     },
     "execution_count": 32,
     "metadata": {},
     "output_type": "execute_result"
    },
    {
     "data": {
      "image/png": "[encoded data removed]",
      "text/plain": [
       "<Figure size 432x288 with 1 Axes>"
      ]
     },
     "metadata": {
      "needs_background": "light"
     },
     "output_type": "display_data"
    }
   ],
   "source": [
    "plot(get_corners(20)[:,0],get_corners(20)[:,1],'k*')\n",
    "plot(np.degrees(corners[:,0]), \n",
    "     np.degrees(corners[:,1]), 'b*')\n",
    "plot(np.degrees(corners1[:,0]), \n",
    "     np.degrees(corners1[:,1]), 'g*')\n"
   ]
  },
  {
   "cell_type": "code",
   "execution_count": null,
   "metadata": {},
   "outputs": [],
   "source": []
  }
 ],
 "metadata": {
  "jupytext": {
   "cell_metadata_filter": "all,-slideshow"
  },
  "kernelspec": {
   "display_name": "Python 3",
   "language": "python",
   "name": "python3"
  },
  "language_info": {
   "codemirror_mode": {
    "name": "ipython",
    "version": 3
   },
   "file_extension": ".py",
   "mimetype": "text/x-python",
   "name": "python",
   "nbconvert_exporter": "python",
   "pygments_lexer": "ipython3",
   "version": "3.8.5"
  }
 },
 "nbformat": 4,
 "nbformat_minor": 4
}
