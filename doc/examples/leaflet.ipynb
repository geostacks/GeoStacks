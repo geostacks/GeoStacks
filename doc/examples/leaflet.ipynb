{
 "cells": [
  {
   "cell_type": "code",
   "execution_count": 1,
   "id": "usual-stock",
   "metadata": {},
   "outputs": [],
   "source": [
    "# Autoreload extension\n",
    "%load_ext autoreload\n",
    "%autoreload 2"
   ]
  },
  {
   "cell_type": "code",
   "execution_count": 2,
   "id": "centered-outside",
   "metadata": {},
   "outputs": [],
   "source": [
    "import sys, os"
   ]
  },
  {
   "cell_type": "code",
   "execution_count": 3,
   "id": "neutral-archives",
   "metadata": {},
   "outputs": [
    {
     "name": "stdout",
     "output_type": "stream",
     "text": [
      "/home/espg/software/blanktest/GeoStacks\n"
     ]
    }
   ],
   "source": [
    "cd ../.."
   ]
  },
  {
   "cell_type": "code",
   "execution_count": 4,
   "id": "thorough-trailer",
   "metadata": {},
   "outputs": [],
   "source": [
    "# add pip path so it's discoverable\n",
    "sys.path.insert(0, os.path.abspath('./_build/pip_packages/lib/python3.8/site-packages/'))"
   ]
  },
  {
   "cell_type": "code",
   "execution_count": 5,
   "id": "bored-meter",
   "metadata": {
    "tags": []
   },
   "outputs": [
    {
     "name": "stdout",
     "output_type": "stream",
     "text": [
      "Collecting ipyleaflet==0.13.5\n",
      "  Using cached ipyleaflet-0.13.5-py2.py3-none-any.whl (4.9 MB)\n",
      "Collecting shapely\n",
      "  Using cached Shapely-1.7.1-cp38-cp38-manylinux1_x86_64.whl (1.0 MB)\n",
      "Collecting branca<0.5,>=0.3.1\n",
      "  Using cached branca-0.4.2-py3-none-any.whl (24 kB)\n",
      "Collecting ipywidgets<8,>=7.6.0\n",
      "  Using cached ipywidgets-7.6.3-py2.py3-none-any.whl (121 kB)\n",
      "Collecting traittypes<3,>=0.2.1\n",
      "  Using cached traittypes-0.2.1-py2.py3-none-any.whl (8.6 kB)\n",
      "Requirement already satisfied: jinja2 in /nix/store/08p57lqsydb0ybf9g25r4prfhwflfbv0-python3.8-Jinja2-2.11.3/lib/python3.8/site-packages (from branca<0.5,>=0.3.1->ipyleaflet==0.13.5) (2.11.3)\n",
      "Requirement already satisfied: traitlets>=4.3.1 in /nix/store/d48hfzvy4jhr6p3y325j75fir7cw3ipl-python3.8-traitlets-5.0.5/lib/python3.8/site-packages (from ipywidgets<8,>=7.6.0->ipyleaflet==0.13.5) (5.0.5)\n",
      "Requirement already satisfied: nbformat>=4.2.0 in /nix/store/y9axkdvyhg7zm20pcqjv7c47zjiyycvn-python3.8-nbformat-5.1.2/lib/python3.8/site-packages (from ipywidgets<8,>=7.6.0->ipyleaflet==0.13.5) (5.1.2)\n",
      "Requirement already satisfied: ipython>=4.0.0 in /nix/store/7pk3b5nibagszwq110vx7m7kbp3ak38l-python3.8-ipython-7.21.0/lib/python3.8/site-packages (from ipywidgets<8,>=7.6.0->ipyleaflet==0.13.5) (7.21.0)\n",
      "Collecting jupyterlab-widgets>=1.0.0\n",
      "  Using cached jupyterlab_widgets-1.0.0-py3-none-any.whl (243 kB)\n",
      "Collecting widgetsnbextension~=3.5.0\n",
      "  Using cached widgetsnbextension-3.5.1-py2.py3-none-any.whl (2.2 MB)\n",
      "Requirement already satisfied: ipykernel>=4.5.1 in /nix/store/3l9b7gk94f3sa24rgs33bh3qs936943i-python3.8-ipykernel-5.5.0/lib/python3.8/site-packages (from ipywidgets<8,>=7.6.0->ipyleaflet==0.13.5) (5.5.0)\n",
      "Requirement already satisfied: tornado>=4.2 in /nix/store/3rm37av8xhm77k2s7i5z9qiaskcxhf4r-python3.8-tornado-6.1/lib/python3.8/site-packages (from ipykernel>=4.5.1->ipywidgets<8,>=7.6.0->ipyleaflet==0.13.5) (6.1)\n",
      "Requirement already satisfied: jupyter-client in /nix/store/k3r7f87k6d762a9lyli9bfwg05lagqxs-python3.8-jupyter_client-6.1.12/lib/python3.8/site-packages (from ipykernel>=4.5.1->ipywidgets<8,>=7.6.0->ipyleaflet==0.13.5) (6.1.12)\n",
      "Requirement already satisfied: prompt-toolkit!=3.0.0,!=3.0.1,<3.1.0,>=2.0.0 in /nix/store/ykmrx986l2wdrq98w50ci0r5swj1cnhd-python3.8-prompt_toolkit-3.0.18/lib/python3.8/site-packages (from ipython>=4.0.0->ipywidgets<8,>=7.6.0->ipyleaflet==0.13.5) (3.0.18)\n",
      "Requirement already satisfied: decorator in /nix/store/59f6bs2z85wfajrvdkc26d06y8amn6d7-python3.8-decorator-4.4.2/lib/python3.8/site-packages (from ipython>=4.0.0->ipywidgets<8,>=7.6.0->ipyleaflet==0.13.5) (4.4.2)\n",
      "Requirement already satisfied: pexpect>4.3 in /nix/store/hg0q0x4l4kg7fcsa2m4cg0cp0whjqpdy-python3.8-pexpect-4.8.0/lib/python3.8/site-packages (from ipython>=4.0.0->ipywidgets<8,>=7.6.0->ipyleaflet==0.13.5) (4.8.0)\n",
      "Requirement already satisfied: pygments in /nix/store/6fykxraxpszsb5g52n37avjf0281s7ml-python3.8-Pygments-2.8.1/lib/python3.8/site-packages (from ipython>=4.0.0->ipywidgets<8,>=7.6.0->ipyleaflet==0.13.5) (2.8.1)\n",
      "Requirement already satisfied: jedi>=0.16 in /nix/store/s0m2v9njzjzavasz232i1612mjzz6xci-python3.8-jedi-2020-08-06/lib/python3.8/site-packages (from ipython>=4.0.0->ipywidgets<8,>=7.6.0->ipyleaflet==0.13.5) (0.17.2)\n",
      "Requirement already satisfied: backcall in /nix/store/xm7j419ziy8azry59hj9928a3bx6yjfs-python3.8-backcall-0.2.0/lib/python3.8/site-packages (from ipython>=4.0.0->ipywidgets<8,>=7.6.0->ipyleaflet==0.13.5) (0.2.0)\n",
      "Requirement already satisfied: pickleshare in /nix/store/gidy0vvzyi7871bqccqv5c3ls80fphdp-python3.8-pickleshare-0.7.5/lib/python3.8/site-packages (from ipython>=4.0.0->ipywidgets<8,>=7.6.0->ipyleaflet==0.13.5) (0.7.5)\n",
      "Requirement already satisfied: setuptools>=18.5 in /nix/store/8j0zk6lz3kgrga56lnvwr1cchr88g3sb-python3.8-setuptools-54.2.0/lib/python3.8/site-packages (from ipython>=4.0.0->ipywidgets<8,>=7.6.0->ipyleaflet==0.13.5) (54.2.0.post0)\n",
      "Requirement already satisfied: parso<0.9.0,>=0.8.0 in /nix/store/n8a7rjffss9aw3kpwrhrrvfbnq9azg7a-python3.8-parso-0.8.1/lib/python3.8/site-packages (from jedi>=0.16->ipython>=4.0.0->ipywidgets<8,>=7.6.0->ipyleaflet==0.13.5) (0.8.1)\n",
      "Requirement already satisfied: ipython-genutils in /nix/store/6nlza2v9z0n6lxdw8cnr4qyjbgn6m2kh-python3.8-ipython_genutils-0.2.0/lib/python3.8/site-packages (from nbformat>=4.2.0->ipywidgets<8,>=7.6.0->ipyleaflet==0.13.5) (0.2.0)\n",
      "Requirement already satisfied: jupyter-core in /nix/store/hyn2bg9zw5bbaghaqar2ss245wj40z1c-python3.8-jupyter_core-4.7.1/lib/python3.8/site-packages (from nbformat>=4.2.0->ipywidgets<8,>=7.6.0->ipyleaflet==0.13.5) (4.7.1)\n",
      "Requirement already satisfied: jsonschema!=2.5.0,>=2.4 in /nix/store/mci2jdi0bqjbzjzfawymab65fii1z9kn-python3.8-jsonschema-3.2.0/lib/python3.8/site-packages (from nbformat>=4.2.0->ipywidgets<8,>=7.6.0->ipyleaflet==0.13.5) (3.2.0)\n",
      "Requirement already satisfied: six>=1.11.0 in /nix/store/slsqgiikh9mnzd3jw90mc2x61anj84h7-python3.8-six-1.15.0/lib/python3.8/site-packages (from jsonschema!=2.5.0,>=2.4->nbformat>=4.2.0->ipywidgets<8,>=7.6.0->ipyleaflet==0.13.5) (1.15.0)\n",
      "Requirement already satisfied: attrs>=17.4.0 in /nix/store/hmr5wz58f5qc8dw7v4l53yj1ah2rpq7k-python3.8-attrs-20.3.0/lib/python3.8/site-packages (from jsonschema!=2.5.0,>=2.4->nbformat>=4.2.0->ipywidgets<8,>=7.6.0->ipyleaflet==0.13.5) (20.3.0)\n",
      "Requirement already satisfied: pyrsistent>=0.14.0 in /nix/store/mf0lzbcpw9m8swjj5i9z6jhl3jw0xkkf-python3.8-pyrsistent-0.17.3/lib/python3.8/site-packages (from jsonschema!=2.5.0,>=2.4->nbformat>=4.2.0->ipywidgets<8,>=7.6.0->ipyleaflet==0.13.5) (0.17.3)\n",
      "Requirement already satisfied: ptyprocess>=0.5 in /nix/store/a4aqrfji9arvhhxg11kv1m37z71b6a0w-python3.8-ptyprocess-0.7.0/lib/python3.8/site-packages (from pexpect>4.3->ipython>=4.0.0->ipywidgets<8,>=7.6.0->ipyleaflet==0.13.5) (0.7.0)\n",
      "Requirement already satisfied: wcwidth in /nix/store/7gv1rpvpkljx7wpnzn7dn4aj9b5d1gp6-python3.8-wcwidth-0.2.5/lib/python3.8/site-packages (from prompt-toolkit!=3.0.0,!=3.0.1,<3.1.0,>=2.0.0->ipython>=4.0.0->ipywidgets<8,>=7.6.0->ipyleaflet==0.13.5) (0.2.5)\n",
      "Requirement already satisfied: notebook>=4.4.1 in /nix/store/knfs9dgfr3nd115vlpml2ka7f41m4y77-python3.8-notebook-6.3.0/lib/python3.8/site-packages (from widgetsnbextension~=3.5.0->ipywidgets<8,>=7.6.0->ipyleaflet==0.13.5) (6.3.0)\n",
      "Requirement already satisfied: pyzmq>=17 in /nix/store/h4jlc51d00y4vacrbp7bqlnx68xv2vjm-python3.8-pyzmq-22.0.3/lib/python3.8/site-packages (from notebook>=4.4.1->widgetsnbextension~=3.5.0->ipywidgets<8,>=7.6.0->ipyleaflet==0.13.5) (22.0.3)\n",
      "Requirement already satisfied: terminado>=0.8.3 in /nix/store/kk81y8acgwphkcrd0q64hvh36wzzmyyh-python3.8-terminado-0.9.3/lib/python3.8/site-packages (from notebook>=4.4.1->widgetsnbextension~=3.5.0->ipywidgets<8,>=7.6.0->ipyleaflet==0.13.5) (0.9.3)\n",
      "Requirement already satisfied: Send2Trash>=1.5.0 in /nix/store/y4jdyxjrxr0rma8w8kv2zaqd7fkwzsvn-python3.8-Send2Trash-1.5.0/lib/python3.8/site-packages (from notebook>=4.4.1->widgetsnbextension~=3.5.0->ipywidgets<8,>=7.6.0->ipyleaflet==0.13.5) (1.5.0)\n",
      "Requirement already satisfied: prometheus-client in /nix/store/zskq35q5jcralnkydvkwznv2hfj9aniq-python3.8-prometheus_client-0.9.0/lib/python3.8/site-packages (from notebook>=4.4.1->widgetsnbextension~=3.5.0->ipywidgets<8,>=7.6.0->ipyleaflet==0.13.5) (0.9.0)\n",
      "Requirement already satisfied: argon2-cffi in /nix/store/b0xwpjc8yji58ygazzkm1bxh99ndd2nb-python3.8-argon2_cffi-20.1.0/lib/python3.8/site-packages (from notebook>=4.4.1->widgetsnbextension~=3.5.0->ipywidgets<8,>=7.6.0->ipyleaflet==0.13.5) (20.1.0)\n",
      "Requirement already satisfied: nbconvert in /nix/store/rcffh0yzarpfa6r4qicsrrwj8b5cx9m2-python3.8-nbconvert-6.0.7/lib/python3.8/site-packages (from notebook>=4.4.1->widgetsnbextension~=3.5.0->ipywidgets<8,>=7.6.0->ipyleaflet==0.13.5) (6.0.7)\n",
      "Requirement already satisfied: python-dateutil>=2.1 in /nix/store/r55fjhamini7vdc159zwc47dfi8flygv-python3.8-python-dateutil-2.8.1/lib/python3.8/site-packages (from jupyter-client->ipykernel>=4.5.1->ipywidgets<8,>=7.6.0->ipyleaflet==0.13.5) (2.8.1)\n",
      "Collecting cffi>=1.0.0\n",
      "  Using cached cffi-1.14.5-cp38-cp38-manylinux1_x86_64.whl (411 kB)\n",
      "Requirement already satisfied: pycparser in /nix/store/v4ry8pvzz3kjp18g1l5zam67314s5gm8-python3.8-pycparser-2.20/lib/python3.8/site-packages (from cffi>=1.0.0->argon2-cffi->notebook>=4.4.1->widgetsnbextension~=3.5.0->ipywidgets<8,>=7.6.0->ipyleaflet==0.13.5) (2.20)\n",
      "Requirement already satisfied: MarkupSafe>=0.23 in /nix/store/fkndl2n7l8x9ncrkzggpcmci7933kh3x-python3.8-MarkupSafe-1.1.1/lib/python3.8/site-packages (from jinja2->branca<0.5,>=0.3.1->ipyleaflet==0.13.5) (1.1.1)\n",
      "Requirement already satisfied: nbclient<0.6.0,>=0.5.0 in /nix/store/n1yzbdwfswp4mp2yr7b8wancgqaj04rd-python3.8-nbclient-0.5.3/lib/python3.8/site-packages (from nbconvert->notebook>=4.4.1->widgetsnbextension~=3.5.0->ipywidgets<8,>=7.6.0->ipyleaflet==0.13.5) (0.5.3)\n",
      "Requirement already satisfied: entrypoints>=0.2.2 in /nix/store/38fsgr9mshjq7cyp5nw8bdr17zh26721-python3.8-entrypoints-0.3/lib/python3.8/site-packages (from nbconvert->notebook>=4.4.1->widgetsnbextension~=3.5.0->ipywidgets<8,>=7.6.0->ipyleaflet==0.13.5) (0.3)\n",
      "Requirement already satisfied: pandocfilters>=1.4.1 in /nix/store/wk9gnzlbc93vzpjyir5v26scssgf3dxa-python3.8-pandocfilters-1.4.3/lib/python3.8/site-packages (from nbconvert->notebook>=4.4.1->widgetsnbextension~=3.5.0->ipywidgets<8,>=7.6.0->ipyleaflet==0.13.5) (1.4.3)\n",
      "Requirement already satisfied: defusedxml in /nix/store/wbclqhqpb24lpvb47vxk150dracl15s0-python3.8-defusedxml-0.7.1/lib/python3.8/site-packages (from nbconvert->notebook>=4.4.1->widgetsnbextension~=3.5.0->ipywidgets<8,>=7.6.0->ipyleaflet==0.13.5) (0.7.1)\n",
      "Requirement already satisfied: jupyterlab-pygments in /nix/store/fbbcxnzpc89andw9fzs2iqhxrxbrj9f5-python3.8-jupyterlab_pygments-0.1.2/lib/python3.8/site-packages (from nbconvert->notebook>=4.4.1->widgetsnbextension~=3.5.0->ipywidgets<8,>=7.6.0->ipyleaflet==0.13.5) (0.1.2)\n",
      "Requirement already satisfied: bleach in /nix/store/qyqmz1y7qf85dhd32rfjx2w7j92ng0lv-python3.8-bleach-3.3.0/lib/python3.8/site-packages (from nbconvert->notebook>=4.4.1->widgetsnbextension~=3.5.0->ipywidgets<8,>=7.6.0->ipyleaflet==0.13.5) (3.3.0)\n",
      "Requirement already satisfied: testpath in /nix/store/hhhdv940yd4a3rm8xnhbnkg6mfw1sisd-python3.8-testpath-0.4.4/lib/python3.8/site-packages (from nbconvert->notebook>=4.4.1->widgetsnbextension~=3.5.0->ipywidgets<8,>=7.6.0->ipyleaflet==0.13.5) (0.4.4)\n",
      "Requirement already satisfied: mistune<2,>=0.8.1 in /nix/store/146nn9pkzkhijbs6qy6m1ngy67rri5p6-python3.8-mistune-0.8.4/lib/python3.8/site-packages (from nbconvert->notebook>=4.4.1->widgetsnbextension~=3.5.0->ipywidgets<8,>=7.6.0->ipyleaflet==0.13.5) (0.8.4)\n",
      "Requirement already satisfied: async-generator in /nix/store/2ilkq1k958q8lb0dllqia6s32g022v4i-python3.8-async_generator-1.10/lib/python3.8/site-packages (from nbclient<0.6.0,>=0.5.0->nbconvert->notebook>=4.4.1->widgetsnbextension~=3.5.0->ipywidgets<8,>=7.6.0->ipyleaflet==0.13.5) (1.10)\n",
      "Requirement already satisfied: nest-asyncio in /nix/store/r1mjwgs21wq4p86j409d5krn85i4k65m-python3.8-nest_asyncio-1.5.1/lib/python3.8/site-packages (from nbclient<0.6.0,>=0.5.0->nbconvert->notebook>=4.4.1->widgetsnbextension~=3.5.0->ipywidgets<8,>=7.6.0->ipyleaflet==0.13.5) (1.5.1)\n",
      "Requirement already satisfied: webencodings in /nix/store/zyv2dv5i6vb35qxkckm0k65ni6h3np3v-python3.8-webencodings-0.5.1/lib/python3.8/site-packages (from bleach->nbconvert->notebook>=4.4.1->widgetsnbextension~=3.5.0->ipywidgets<8,>=7.6.0->ipyleaflet==0.13.5) (0.5.1)\n",
      "Requirement already satisfied: packaging in /nix/store/08qf1ig0n3h0yhgdiyl7fxpydqa5cyyj-python3.8-packaging-20.9/lib/python3.8/site-packages (from bleach->nbconvert->notebook>=4.4.1->widgetsnbextension~=3.5.0->ipywidgets<8,>=7.6.0->ipyleaflet==0.13.5) (20.9)\n",
      "Requirement already satisfied: pyparsing>=2.0.2 in /nix/store/pngaip659pn9bbhc5c2r9mxdisybqw2v-python3.8-pyparsing-2.4.7/lib/python3.8/site-packages (from packaging->bleach->nbconvert->notebook>=4.4.1->widgetsnbextension~=3.5.0->ipywidgets<8,>=7.6.0->ipyleaflet==0.13.5) (2.4.7)\n",
      "Installing collected packages: cffi, widgetsnbextension, jupyterlab-widgets, traittypes, shapely, ipywidgets, branca, ipyleaflet\n",
      "Successfully installed branca-0.4.2 cffi-1.14.5 ipyleaflet-0.13.5 ipywidgets-7.6.3 jupyterlab-widgets-1.0.0 shapely-1.7.1 traittypes-0.2.1 widgetsnbextension-3.5.1\n",
      "\u001b[33mWARNING: You are using pip version 21.0.1; however, version 21.1.1 is available.\n",
      "You should consider upgrading via the '/nix/store/d5gk8iqkkivrwhbggq0j1l85b46yiz7y-python3-3.8.9-env/bin/python3.8 -m pip install --upgrade pip' command.\u001b[0m\n"
     ]
    }
   ],
   "source": [
    "# Build the ipyleaflet outside of nix\n",
    "!{sys.executable} -m pip install --prefix=\"./_build/pip_packages\" ipyleaflet==0.13.5"
   ]
  },
  {
   "cell_type": "code",
   "execution_count": 6,
   "id": "27163cf1-90dc-4f3b-8623-bdad7dfeb7a0",
   "metadata": {},
   "outputs": [
    {
     "name": "stdout",
     "output_type": "stream",
     "text": [
      "/nix/store/m8brfk4i46vsiizk5p4vfbym6q7rplki-python3.8-jupyter_server-1.5.0/lib/python3.8/site-packages/jupyter_server/transutils.py:13: FutureWarning: The alias `_()` will be deprecated. Use `_i18n()` instead.\n",
      "  warnings.warn(warn_msg, FutureWarning)\n",
      "JupyterLab v3.0.14\n",
      "Other labextensions (built into JupyterLab)\n",
      "   app dir: /nix/store/l3vksqimsgf8ic11rvbl1bj33xf4cjf4-jupyterlab\n",
      "        @jupyter-widgets/jupyterlab-manager v3.0.0 \u001b[32menabled\u001b[0m \u001b[32mOK\u001b[0m\n",
      "        jupyter-leaflet v0.13.5 \u001b[32menabled\u001b[0m \u001b[32mOK\u001b[0m\n",
      "\n"
     ]
    }
   ],
   "source": [
    "!jupyter-labextension list"
   ]
  },
  {
   "cell_type": "code",
   "execution_count": 7,
   "id": "breeding-orlando",
   "metadata": {},
   "outputs": [],
   "source": [
    "from ipyleaflet import Map, Marker\n",
    "\n",
    "center = (52.204793, 360.121558)\n",
    "\n",
    "m = Map(center=center, zoom=15)\n",
    "\n",
    "marker = Marker(location=center, draggable=True)\n",
    "m.add_layer(marker);"
   ]
  },
  {
   "cell_type": "code",
   "execution_count": 8,
   "id": "peripheral-profession",
   "metadata": {},
   "outputs": [
    {
     "data": {
      "application/vnd.jupyter.widget-view+json": {
       "model_id": "7be44455b59c4d18a4b4f3af18e6c5ce",
       "version_major": 2,
       "version_minor": 0
      },
      "text/plain": [
       "Map(center=[52.204793, 360.121558], controls=(ZoomControl(options=['position', 'zoom_in_text', 'zoom_in_title'…"
      ]
     },
     "metadata": {},
     "output_type": "display_data"
    }
   ],
   "source": [
    "display(m)\n"
   ]
  },
  {
   "cell_type": "code",
   "execution_count": null,
   "id": "6707faf5-0199-4712-97d9-0beaa855b939",
   "metadata": {},
   "outputs": [],
   "source": []
  }
 ],
 "metadata": {
  "kernelspec": {
   "display_name": "Python3 - python",
   "language": "python",
   "name": "ipython_python"
  },
  "language_info": {
   "codemirror_mode": {
    "name": "ipython",
    "version": 3
   },
   "file_extension": ".py",
   "mimetype": "text/x-python",
   "name": "python",
   "nbconvert_exporter": "python",
   "pygments_lexer": "ipython3",
   "version": "3.8.9"
  }
 },
 "nbformat": 4,
 "nbformat_minor": 5
}
