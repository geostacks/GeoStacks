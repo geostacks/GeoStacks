{
 "cells": [
  {
   "cell_type": "code",
   "execution_count": 1,
   "metadata": {},
   "outputs": [],
   "source": [
    "import pandas as pd\n",
    "import geopandas as gpd\n",
    "import numpy as np"
   ]
  },
  {
   "cell_type": "code",
   "execution_count": 2,
   "metadata": {},
   "outputs": [],
   "source": [
    "ls8 = pd.read_excel('./LS8_cornerPts.xlsx')"
   ]
  },
  {
   "cell_type": "code",
   "execution_count": 3,
   "metadata": {},
   "outputs": [
    {
     "data": {
      "text/html": [
       "<div>\n",
       "<style scoped>\n",
       "    .dataframe tbody tr th:only-of-type {\n",
       "        vertical-align: middle;\n",
       "    }\n",
       "\n",
       "    .dataframe tbody tr th {\n",
       "        vertical-align: top;\n",
       "    }\n",
       "\n",
       "    .dataframe thead th {\n",
       "        text-align: right;\n",
       "    }\n",
       "</style>\n",
       "<table border=\"1\" class=\"dataframe\">\n",
       "  <thead>\n",
       "    <tr style=\"text-align: right;\">\n",
       "      <th></th>\n",
       "      <th>path</th>\n",
       "      <th>row</th>\n",
       "      <th>lat_CTR</th>\n",
       "      <th>lon_CTR</th>\n",
       "      <th>lat_UL</th>\n",
       "      <th>lon_UL</th>\n",
       "      <th>lat_UR</th>\n",
       "      <th>lon_UR</th>\n",
       "      <th>lat_LL</th>\n",
       "      <th>lon_LL</th>\n",
       "      <th>lat_LR</th>\n",
       "      <th>lon_LR</th>\n",
       "    </tr>\n",
       "  </thead>\n",
       "  <tbody>\n",
       "    <tr>\n",
       "      <th>0</th>\n",
       "      <td>1</td>\n",
       "      <td>1</td>\n",
       "      <td>80.774791</td>\n",
       "      <td>3.210620</td>\n",
       "      <td>81.923</td>\n",
       "      <td>5.424</td>\n",
       "      <td>80.307</td>\n",
       "      <td>9.947</td>\n",
       "      <td>81.107</td>\n",
       "      <td>-4.125</td>\n",
       "      <td>79.617</td>\n",
       "      <td>1.472</td>\n",
       "    </tr>\n",
       "    <tr>\n",
       "      <th>1</th>\n",
       "      <td>1</td>\n",
       "      <td>2</td>\n",
       "      <td>80.021757</td>\n",
       "      <td>-4.274059</td>\n",
       "      <td>81.203</td>\n",
       "      <td>-3.207</td>\n",
       "      <td>79.699</td>\n",
       "      <td>2.307</td>\n",
       "      <td>80.211</td>\n",
       "      <td>-11.194</td>\n",
       "      <td>78.838</td>\n",
       "      <td>-5.129</td>\n",
       "    </tr>\n",
       "    <tr>\n",
       "      <th>2</th>\n",
       "      <td>1</td>\n",
       "      <td>3</td>\n",
       "      <td>79.129883</td>\n",
       "      <td>-10.647337</td>\n",
       "      <td>80.322</td>\n",
       "      <td>-10.432</td>\n",
       "      <td>78.936</td>\n",
       "      <td>-4.404</td>\n",
       "      <td>79.196</td>\n",
       "      <td>-17.039</td>\n",
       "      <td>77.937</td>\n",
       "      <td>-10.831</td>\n",
       "    </tr>\n",
       "    <tr>\n",
       "      <th>3</th>\n",
       "      <td>1</td>\n",
       "      <td>4</td>\n",
       "      <td>78.130377</td>\n",
       "      <td>-16.029408</td>\n",
       "      <td>79.320</td>\n",
       "      <td>-16.409</td>\n",
       "      <td>78.048</td>\n",
       "      <td>-10.207</td>\n",
       "      <td>78.095</td>\n",
       "      <td>-21.873</td>\n",
       "      <td>76.940</td>\n",
       "      <td>-15.728</td>\n",
       "    </tr>\n",
       "    <tr>\n",
       "      <th>4</th>\n",
       "      <td>1</td>\n",
       "      <td>5</td>\n",
       "      <td>77.048078</td>\n",
       "      <td>-20.572231</td>\n",
       "      <td>78.227</td>\n",
       "      <td>-21.351</td>\n",
       "      <td>77.061</td>\n",
       "      <td>-15.193</td>\n",
       "      <td>76.927</td>\n",
       "      <td>-25.898</td>\n",
       "      <td>75.867</td>\n",
       "      <td>-19.930</td>\n",
       "    </tr>\n",
       "    <tr>\n",
       "      <th>...</th>\n",
       "      <td>...</td>\n",
       "      <td>...</td>\n",
       "      <td>...</td>\n",
       "      <td>...</td>\n",
       "      <td>...</td>\n",
       "      <td>...</td>\n",
       "      <td>...</td>\n",
       "      <td>...</td>\n",
       "      <td>...</td>\n",
       "      <td>...</td>\n",
       "      <td>...</td>\n",
       "      <td>...</td>\n",
       "    </tr>\n",
       "    <tr>\n",
       "      <th>57778</th>\n",
       "      <td>233</td>\n",
       "      <td>244</td>\n",
       "      <td>81.352691</td>\n",
       "      <td>28.155956</td>\n",
       "      <td>81.848</td>\n",
       "      <td>35.646</td>\n",
       "      <td>80.245</td>\n",
       "      <td>30.979</td>\n",
       "      <td>82.435</td>\n",
       "      <td>24.538</td>\n",
       "      <td>80.730</td>\n",
       "      <td>21.560</td>\n",
       "    </tr>\n",
       "    <tr>\n",
       "      <th>57779</th>\n",
       "      <td>233</td>\n",
       "      <td>245</td>\n",
       "      <td>81.718750</td>\n",
       "      <td>18.566867</td>\n",
       "      <td>82.387</td>\n",
       "      <td>25.777</td>\n",
       "      <td>80.691</td>\n",
       "      <td>22.590</td>\n",
       "      <td>82.696</td>\n",
       "      <td>13.461</td>\n",
       "      <td>80.942</td>\n",
       "      <td>12.495</td>\n",
       "    </tr>\n",
       "    <tr>\n",
       "      <th>57780</th>\n",
       "      <td>233</td>\n",
       "      <td>246</td>\n",
       "      <td>81.844418</td>\n",
       "      <td>8.404287</td>\n",
       "      <td>82.680</td>\n",
       "      <td>14.794</td>\n",
       "      <td>80.929</td>\n",
       "      <td>13.576</td>\n",
       "      <td>82.680</td>\n",
       "      <td>2.015</td>\n",
       "      <td>80.929</td>\n",
       "      <td>3.233</td>\n",
       "    </tr>\n",
       "    <tr>\n",
       "      <th>57781</th>\n",
       "      <td>233</td>\n",
       "      <td>247</td>\n",
       "      <td>81.718750</td>\n",
       "      <td>-1.758293</td>\n",
       "      <td>82.696</td>\n",
       "      <td>3.347</td>\n",
       "      <td>80.942</td>\n",
       "      <td>4.314</td>\n",
       "      <td>82.387</td>\n",
       "      <td>-8.969</td>\n",
       "      <td>80.691</td>\n",
       "      <td>-5.781</td>\n",
       "    </tr>\n",
       "    <tr>\n",
       "      <th>57782</th>\n",
       "      <td>233</td>\n",
       "      <td>248</td>\n",
       "      <td>81.352691</td>\n",
       "      <td>-11.347382</td>\n",
       "      <td>82.435</td>\n",
       "      <td>-7.730</td>\n",
       "      <td>80.730</td>\n",
       "      <td>-4.751</td>\n",
       "      <td>81.848</td>\n",
       "      <td>-18.838</td>\n",
       "      <td>80.245</td>\n",
       "      <td>-14.170</td>\n",
       "    </tr>\n",
       "  </tbody>\n",
       "</table>\n",
       "<p>57783 rows × 12 columns</p>\n",
       "</div>"
      ],
      "text/plain": [
       "       path  row    lat_CTR    lon_CTR  lat_UL  lon_UL  lat_UR  lon_UR  \\\n",
       "0         1    1  80.774791   3.210620  81.923   5.424  80.307   9.947   \n",
       "1         1    2  80.021757  -4.274059  81.203  -3.207  79.699   2.307   \n",
       "2         1    3  79.129883 -10.647337  80.322 -10.432  78.936  -4.404   \n",
       "3         1    4  78.130377 -16.029408  79.320 -16.409  78.048 -10.207   \n",
       "4         1    5  77.048078 -20.572231  78.227 -21.351  77.061 -15.193   \n",
       "...     ...  ...        ...        ...     ...     ...     ...     ...   \n",
       "57778   233  244  81.352691  28.155956  81.848  35.646  80.245  30.979   \n",
       "57779   233  245  81.718750  18.566867  82.387  25.777  80.691  22.590   \n",
       "57780   233  246  81.844418   8.404287  82.680  14.794  80.929  13.576   \n",
       "57781   233  247  81.718750  -1.758293  82.696   3.347  80.942   4.314   \n",
       "57782   233  248  81.352691 -11.347382  82.435  -7.730  80.730  -4.751   \n",
       "\n",
       "       lat_LL  lon_LL  lat_LR  lon_LR  \n",
       "0      81.107  -4.125  79.617   1.472  \n",
       "1      80.211 -11.194  78.838  -5.129  \n",
       "2      79.196 -17.039  77.937 -10.831  \n",
       "3      78.095 -21.873  76.940 -15.728  \n",
       "4      76.927 -25.898  75.867 -19.930  \n",
       "...       ...     ...     ...     ...  \n",
       "57778  82.435  24.538  80.730  21.560  \n",
       "57779  82.696  13.461  80.942  12.495  \n",
       "57780  82.680   2.015  80.929   3.233  \n",
       "57781  82.387  -8.969  80.691  -5.781  \n",
       "57782  81.848 -18.838  80.245 -14.170  \n",
       "\n",
       "[57783 rows x 12 columns]"
      ]
     },
     "execution_count": 3,
     "metadata": {},
     "output_type": "execute_result"
    }
   ],
   "source": [
    "ls8"
   ]
  },
  {
   "cell_type": "code",
   "execution_count": null,
   "metadata": {},
   "outputs": [],
   "source": [
    "def bearing(lat1,lon1, lat2,lon2):\n",
    "    \"\"\"assumes lat/lon values are in decimal degrees\"\"\"\n",
    "    lat1 = lat1*np.pi/180.\n",
    "    lat2 = lat2*np.pi/180.\n",
    "    lon1 = lon1*np.pi/180.\n",
    "    lon2 = lon2*np.pi/180.\n",
    "    \n",
    "    X = np.cos(lat2) * np.sin(lon2 - lon1)\n",
    "    Y = np.cos(lat1) * np.sin(lat2) - np.sin(lat1)*np.cos(lat2)*np.cos(lon2-lon1)\n",
    "    \n",
    "    "
   ]
  },
  {
   "cell_type": "code",
   "execution_count": null,
   "metadata": {},
   "outputs": [],
   "source": []
  },
  {
   "cell_type": "code",
   "execution_count": null,
   "metadata": {},
   "outputs": [],
   "source": []
  },
  {
   "cell_type": "markdown",
   "metadata": {},
   "source": [
    "Let $C$ be the center point and $\\theta$ is the tilt angle there is a corresponding \"unit tangent vector\" to the sphere with that tilt. Call this vector $v$."
   ]
  },
  {
   "cell_type": "markdown",
   "metadata": {},
   "source": [
    "To move $C$ along $v$ a distance $D$ in a sphere of radius $R$ is something like\n",
    "\n",
    "$$\n",
    "P_1  = \\cos(A) \\cdot C + R\\cdot \\sin (A) \\cdot v\n",
    "$$\n",
    "where $A$ corresponds to 90km in radians. This is `midpt_1` in code below. Moving in the direction $-v$\n",
    "yields\n",
    "$$\n",
    "P_2  = \\cos(A) \\cdot C - R\\cdot \\sin (A) \\cdot v\n",
    "$$\n",
    "which is referred to as `midpt_2` below."
   ]
  },
  {
   "cell_type": "code",
   "execution_count": 7,
   "metadata": {},
   "outputs": [],
   "source": [
    "import numpy as np\n",
    "import functools \n",
    "lat_deg, lon_deg = 77.875, -20.975\n",
    "lat, lon, R, theta = lat_deg*(2*np.pi)/360, lon_deg*(2*np.pi)/360, 6371, -70 * 2 * np.pi / 360\n",
    "boulder_lat, boulder_lon = lat, lon\n",
    "x, y, z = (R * np.cos(lat) * np.sin(lon), R * np.cos(lat) * np.cos(lon), R * np.sin(lat))\n",
    "C = np.array([x,y,z])"
   ]
  },
  {
   "cell_type": "markdown",
   "metadata": {},
   "source": [
    "## Computing $v$ from $\\theta$\n",
    "\n",
    "At a point $C=[x,y,z]$, a tilt can be thought of as moving through lat and lon along a line with direction vector $d=(d_lon, d_lat)$, so we have \n",
    "in parameters $t$\n",
    "$$\n",
    "x(t), y(t), z(t) = (R * \\cos(lat_0 + t dlat) * \\cos(lon_0 + t dlon), R * \\cos(lat_0 + t dlat) * \\sin(lon_0 + t dlon), R * \\sin(lat_0 + t dlat))\n",
    "$$"
   ]
  },
  {
   "cell_type": "markdown",
   "metadata": {},
   "source": [
    "Differentiating with respect to $t$\n",
    "(ignoring the $R$ scaling as we want normalized $v$) we see $v$ is parallel\n",
    "to \n",
    "$$\n",
    "R\\cdot (-\\sin (lat_0) \\cos(lon_0) dlat - \\cos(lat_0) \\sin(lon_0) dlon, -\\sin(lat_0) \\sin(lon_0) dlat + \\cos(lat_0) \\cos(lon_0) dlon, \\cos(lat_0) dlat)\n",
    "$$"
   ]
  },
  {
   "cell_type": "code",
   "execution_count": 8,
   "metadata": {},
   "outputs": [
    {
     "data": {
      "text/plain": [
       "0.0"
      ]
     },
     "execution_count": 8,
     "metadata": {},
     "output_type": "execute_result"
    }
   ],
   "source": [
    "dlat, dlon = np.sin(theta), np.cos(theta)\n",
    "v = np.array([-np.sin(lat) * np.sin(lon) * dlat + np.cos(lat) * np.cos(lon) * dlon,\n",
    "              -np.sin(lat) * np.cos(lon) * dlat - np.cos(lat) * np.sin(lon) * dlon,\n",
    "              np.cos(lat) * dlat])\n",
    "v /= np.linalg.norm(v) \n",
    "np.sum(v*C)"
   ]
  },
  {
   "cell_type": "markdown",
   "metadata": {},
   "source": [
    "The angle $A$ is \n",
    "$$\n",
    "\\frac{A}{2\\pi} = \\frac{90km}{2 \\pi \\cdot 6371km}\n",
    "$$"
   ]
  },
  {
   "cell_type": "code",
   "execution_count": 9,
   "metadata": {},
   "outputs": [
    {
     "data": {
      "text/plain": [
       "0.014126510751844295"
      ]
     },
     "execution_count": 9,
     "metadata": {},
     "output_type": "execute_result"
    }
   ],
   "source": [
    "A = 90/R\n",
    "A"
   ]
  },
  {
   "cell_type": "code",
   "execution_count": 10,
   "metadata": {},
   "outputs": [
    {
     "data": {
      "text/plain": [
       "(89.9992516582193, 0.9999002225062911, 0.9999002225062912)"
      ]
     },
     "execution_count": 10,
     "metadata": {},
     "output_type": "execute_result"
    }
   ],
   "source": [
    "midpt_1 = np.cos(A) * C + R * np.sin(A) * v\n",
    "np.linalg.norm(midpt_1 - C), np.dot(midpt_1, C) / R**2, np.cos(A)"
   ]
  },
  {
   "cell_type": "markdown",
   "metadata": {},
   "source": [
    "To find next corner, we move $\\perp$ to $v$.\n",
    "That direction can be found by\n",
    "$$\n",
    "v \\times P_1.\n",
    "$$\n",
    "Let $v^{\\perp}$ be the unit vector in this direction."
   ]
  },
  {
   "cell_type": "code",
   "execution_count": 11,
   "metadata": {},
   "outputs": [
    {
     "data": {
      "text/plain": [
       "array([-0.95769775, -0.28733023, -0.01601127])"
      ]
     },
     "execution_count": 11,
     "metadata": {},
     "output_type": "execute_result"
    }
   ],
   "source": [
    "v_perp = np.cross(midpt_1, v) # == np.cross(C, v)\n",
    "v_perp /= np.linalg.norm(v_perp)\n",
    "v_perp"
   ]
  },
  {
   "cell_type": "markdown",
   "metadata": {},
   "source": [
    "We will then move 92.5km from $P_1$ in the direction \n",
    "$$\n",
    "P_2 = \\cos(B) \\cdot P_1 + R \\cdot \\sin(B) \\cdot v^{\\perp}\n",
    "$$\n",
    "where\n",
    "$$\n",
    "\\frac{B}{2\\pi} = \\frac{92.5km}{6371km}\n",
    "$$"
   ]
  },
  {
   "cell_type": "code",
   "execution_count": 12,
   "metadata": {},
   "outputs": [
    {
     "data": {
      "text/plain": [
       "[array([-592.50445431, 1307.05760939, 6207.2683104 ]),\n",
       " array([-415.33659543, 1360.21183452, 6210.23029184]),\n",
       " array([-542.51096281, 1138.32435259, 6244.96121073]),\n",
       " array([-365.34310393, 1191.47857771, 6247.92319217])]"
      ]
     },
     "execution_count": 12,
     "metadata": {},
     "output_type": "execute_result"
    }
   ],
   "source": [
    "B = 92.5/6371\n",
    "corners = [np.cos(B) * midpt_1 + R * np.sin(B) * v_perp]\n",
    "corners.append(np.cos(B) * midpt_1 - R * np.sin(B) * v_perp)\n",
    "\n",
    "v_perp = np.cross(midpt_1, v) # == np.cross(C, v)\n",
    "v_perp /= np.linalg.norm(v_perp)\n",
    "v_perp\n",
    "midpt_2 = np.cos(A) * C - R * np.sin(A) * v\n",
    "corners.append(np.cos(B) * midpt_2 + R * np.sin(B) * v_perp)\n",
    "corners.append(np.cos(B) * midpt_2 - R * np.sin(B) * v_perp)\n",
    "\n",
    "corners"
   ]
  },
  {
   "cell_type": "code",
   "execution_count": 13,
   "metadata": {},
   "outputs": [
    {
     "data": {
      "text/plain": [
       "[6370.999999999999, 6370.999999999999, 6371.000000000001, 6371.0]"
      ]
     },
     "execution_count": 13,
     "metadata": {},
     "output_type": "execute_result"
    }
   ],
   "source": [
    "[np.linalg.norm(corner) for corner in corners]"
   ]
  },
  {
   "cell_type": "markdown",
   "metadata": {},
   "source": [
    "We can find another corner\n",
    "$$\n",
    "\\cos(A') \\cdot P_1 - R \\cdot \\sin(A') \\cdot v^{\\perp}\n",
    "$$ \n",
    "and similarly other corners."
   ]
  },
  {
   "cell_type": "markdown",
   "metadata": {},
   "source": [
    "### Now convert back to lat lon"
   ]
  },
  {
   "cell_type": "code",
   "execution_count": 14,
   "metadata": {},
   "outputs": [
    {
     "data": {
      "text/plain": [
       "[76.98228647840101, 77.10107655680675, 78.58424793008591, 78.71962386426219]"
      ]
     },
     "execution_count": 14,
     "metadata": {},
     "output_type": "execute_result"
    }
   ],
   "source": [
    "lat_degs = [np.arcsin(z_ / R) / (2 * np.pi) * 360 for x_, y_, z_ in corners]\n",
    "lat_degs"
   ]
  },
  {
   "cell_type": "code",
   "execution_count": 15,
   "metadata": {},
   "outputs": [
    {
     "data": {
      "text/plain": [
       "[-24.385340987196802,\n",
       " -16.979893384135025,\n",
       " -25.481877244698317,\n",
       " -17.047111911561473]"
      ]
     },
     "execution_count": 15,
     "metadata": {},
     "output_type": "execute_result"
    }
   ],
   "source": [
    "lon_degs = [np.arctan2(x_ / R, y_ / R) / (2 * np.pi) * 360 for x_, y_, z_ in corners]\n",
    "lon_degs"
   ]
  },
  {
   "cell_type": "code",
   "execution_count": 16,
   "metadata": {},
   "outputs": [],
   "source": [
    "%matplotlib inline\n",
    "import matplotlib.pyplot as plt"
   ]
  },
  {
   "cell_type": "code",
   "execution_count": 17,
   "metadata": {},
   "outputs": [
    {
     "data": {
      "text/plain": [
       "<matplotlib.collections.PathCollection at 0x7fb2ac2382b0>"
      ]
     },
     "execution_count": 17,
     "metadata": {},
     "output_type": "execute_result"
    },
    {
     "data": {
      "image/png": "[encoded data removed]",
      "text/plain": [
       "<Figure size 432x288 with 1 Axes>"
      ]
     },
     "metadata": {
      "needs_background": "light"
     },
     "output_type": "display_data"
    }
   ],
   "source": [
    "plt.scatter(lon_degs, lat_degs)\n",
    "plt.scatter([lon_deg], [lat_deg])"
   ]
  },
  {
   "cell_type": "code",
   "execution_count": null,
   "metadata": {},
   "outputs": [],
   "source": []
  },
  {
   "cell_type": "code",
   "execution_count": 12,
   "metadata": {},
   "outputs": [],
   "source": [
    "boulder_scenes = np.array([[1.82882079, 0.72884239],\n",
    "                           [1.83717104, 0.75371663],\n",
    "                           [1.83235034, 0.65405287],\n",
    "                           [1.83991762, 0.6790087 ],\n",
    "                           [1.82075591, 0.70393913],\n",
    "                           [1.84772238, 0.70393913],\n",
    "                           [1.85578727, 0.72884239]])"
   ]
  },
  {
   "cell_type": "code",
   "execution_count": 13,
   "metadata": {},
   "outputs": [
    {
     "data": {
      "text/plain": [
       "(1.8373081035744305, 0.6981317007977318)"
      ]
     },
     "execution_count": 13,
     "metadata": {},
     "output_type": "execute_result"
    }
   ],
   "source": [
    "lon, lat"
   ]
  },
  {
   "cell_type": "markdown",
   "metadata": {},
   "source": [
    "### A representation of the scene that implements `contains`"
   ]
  },
  {
   "cell_type": "code",
   "execution_count": 14,
   "metadata": {},
   "outputs": [],
   "source": [
    "\n",
    "def representation(center_lon,  # in radians\n",
    "                   center_lat,  # in radians\n",
    "                   instrument_tilt, # in degrees, rotation clockwise\n",
    "                   len_lon=180, # extent in km\n",
    "                   len_lat=185, # extent in km\n",
    "                   R=6371):      # \"radius\" of earth\n",
    "\n",
    "    tilt_deg = instrument_tilt * 2 * np.pi / 360\n",
    "\n",
    "    x, y, z = (R * np.cos(center_lat) *\n",
    "               np.sin(center_lon),\n",
    "               R * np.cos(center_lat) *\n",
    "               np.cos(center_lon), R * np.sin(center_lat))\n",
    "    C = np.array([x,y,z]) # center of scene\n",
    "\n",
    "    dlat, dlon = np.sin(-tilt_deg), np.cos(-tilt_deg)\n",
    "    dir_lon = np.array([-np.sin(center_lat) * np.sin(center_lon) * dlat +\n",
    "                       np.cos(center_lat) * np.cos(center_lon) * dlon,\n",
    "                       -np.sin(center_lat) * np.cos(center_lon) * dlat -\n",
    "                       np.cos(center_lat) * np.sin(center_lon) * dlon,\n",
    "                       np.cos(center_lat) * dlat])\n",
    "    dir_lon /= np.linalg.norm(dir_lon) \n",
    "\n",
    "    A = len_lon / 2 / R\n",
    "    midpt_1 = np.cos(A) * C + R * np.sin(A) * dir_lon\n",
    "\n",
    "    dir_lat = np.cross(midpt_1, dir_lon)\n",
    "    dir_lat /= np.linalg.norm(dir_lat)\n",
    "\n",
    "    B = len_lat/ 2 / R\n",
    "\n",
    "    corners = [np.cos(B) * midpt_1 + R * np.sin(B) * dir_lat]\n",
    "    corners.append(np.cos(B) * midpt_1 - R * np.sin(B) * dir_lat)\n",
    "\n",
    "    midpt_2 = np.cos(A) * C - R * np.sin(A) * dir_lon\n",
    "    corners.append(np.cos(B) * midpt_2 + R * np.sin(B) * dir_lat)\n",
    "    corners.append(np.cos(B) * midpt_2 - R * np.sin(B) * dir_lat)\n",
    "    corners = np.array(corners)\n",
    "    \n",
    "    corners_lon_lat = np.array([(np.arctan2(x_ / R, y_ / R),\n",
    "                                 np.arcsin(z_ / R)) for x_, y_, z_ in corners])\n",
    "\n",
    "    # now work out halfspace\n",
    "\n",
    "    # these are the edge segmentsin lon/lat space\n",
    "    supports = [corners_lon_lat[0]-corners_lon_lat[1],\n",
    "                corners_lon_lat[0]-corners_lon_lat[2],\n",
    "                corners_lon_lat[1]-corners_lon_lat[3],\n",
    "                corners_lon_lat[2]-corners_lon_lat[3]] \n",
    "\n",
    "    # normals to each edge segment\n",
    "    normals = np.array([(s[1],-s[0]) for s in supports])\n",
    "    pts = [corners_lon_lat[0],   # a point within each edge\n",
    "           corners_lon_lat[0],\n",
    "           corners_lon_lat[1],\n",
    "           corners_lon_lat[3]]\n",
    "    bdry_values = np.array([np.sum(n * p) for n, p in zip(normals, pts)])\n",
    "    center_values = [np.sum(n * [center_lon, center_lat]) for n in normals]\n",
    "    center_signs = np.sign(center_values - bdry_values)\n",
    "\n",
    "    def _check(normals, center_signs, bdry_values, lon_lat_vals):\n",
    "        normal_mul = np.asarray(lon_lat_vals).dot(normals.T)\n",
    "        values_ = normal_mul - bdry_values[None,:]\n",
    "        signs_ = np.sign(values_) * center_signs[None,:]\n",
    "        return np.squeeze(np.all(signs_ == 1, 1))\n",
    "\n",
    "    _check = functools.partial(_check, normals, center_signs, bdry_values)\n",
    "        \n",
    "    return corners_lon_lat, _check, normals, bdry_values, center_signs\n"
   ]
  },
  {
   "cell_type": "markdown",
   "metadata": {},
   "source": [
    "## All scenes containing Boulder"
   ]
  },
  {
   "cell_type": "code",
   "execution_count": 15,
   "metadata": {},
   "outputs": [
    {
     "data": {
      "text/plain": [
       "(1.8373081035744305, 0.6981317007977318)"
      ]
     },
     "execution_count": 15,
     "metadata": {},
     "output_type": "execute_result"
    },
    {
     "data": {
      "image/png": "[encoded data removed]",
      "text/plain": [
       "<Figure size 432x288 with 1 Axes>"
      ]
     },
     "metadata": {
      "needs_background": "light"
     },
     "output_type": "display_data"
    }
   ],
   "source": [
    "for i, scene in enumerate(boulder_scenes):\n",
    "    lon, lat = scene\n",
    "    corners, contains, normals, bdry_values, center_signs = representation(lon, \n",
    "                                                                           lat,\n",
    "                                                                           -theta*360/(2*np.pi))\n",
    "    \n",
    "    if contains([boulder_lon, boulder_lat]):\n",
    "        plt.scatter(corners[:,0], corners[:,1], label='Scene %d' % i)\n",
    "    \n",
    "plt.scatter([boulder_lon], [boulder_lat], marker='+', label='Boulder', s=100)\n",
    "plt.legend()\n",
    "    \n",
    "boulder_lon, boulder_lat"
   ]
  },
  {
   "cell_type": "markdown",
   "metadata": {},
   "source": [
    "### What needs to be stored\n",
    "\n",
    "- We need to store `normals`, `bdry_values` and `center_signs` for each scene."
   ]
  },
  {
   "cell_type": "markdown",
   "metadata": {},
   "source": [
    "### How `contains` is determined\n",
    "\n",
    "- Function can check several query points at once....\n"
   ]
  },
  {
   "cell_type": "code",
   "execution_count": 16,
   "metadata": {},
   "outputs": [],
   "source": [
    "def _check(normals, center_signs, bdry_values, lon_lat_vals):\n",
    "    normal_mul = np.asarray(lon_lat_vals).dot(normals.T)\n",
    "    values_ = normal_mul - bdry_values[None,:]\n",
    "    signs_ = np.sign(values_) * center_signs[None,:]\n",
    "    return np.squeeze(np.all(signs_ == 1, 1))\n",
    "import functools\n",
    "\n",
    "contains = functools.partial(_check, normals, center_signs, bdry_values)"
   ]
  },
  {
   "cell_type": "markdown",
   "metadata": {},
   "source": [
    "### Scenes not containing Boulder"
   ]
  },
  {
   "cell_type": "code",
   "execution_count": 17,
   "metadata": {},
   "outputs": [
    {
     "data": {
      "text/plain": [
       "(1.8373081035744305, 0.6981317007977318)"
      ]
     },
     "execution_count": 17,
     "metadata": {},
     "output_type": "execute_result"
    },
    {
     "data": {
      "image/png": "[encoded data removed]",
      "text/plain": [
       "<Figure size 432x288 with 1 Axes>"
      ]
     },
     "metadata": {
      "needs_background": "light"
     },
     "output_type": "display_data"
    },
    {
     "data": {
      "image/png": "[encoded data removed]",
      "text/plain": [
       "<Figure size 432x288 with 1 Axes>"
      ]
     },
     "metadata": {
      "needs_background": "light"
     },
     "output_type": "display_data"
    },
    {
     "data": {
      "image/png": "[encoded data removed]",
      "text/plain": [
       "<Figure size 432x288 with 1 Axes>"
      ]
     },
     "metadata": {
      "needs_background": "light"
     },
     "output_type": "display_data"
    },
    {
     "data": {
      "image/png": "[encoded data removed]",
      "text/plain": [
       "<Figure size 432x288 with 1 Axes>"
      ]
     },
     "metadata": {
      "needs_background": "light"
     },
     "output_type": "display_data"
    },
    {
     "data": {
      "image/png": "[encoded data removed]",
      "text/plain": [
       "<Figure size 432x288 with 1 Axes>"
      ]
     },
     "metadata": {
      "needs_background": "light"
     },
     "output_type": "display_data"
    }
   ],
   "source": [
    "for i, scene in enumerate(boulder_scenes):\n",
    "    lon, lat = scene\n",
    "    corners, contains, normals, bdry_values, center_signs = representation(lon, \n",
    "                                                                           lat,\n",
    "                                                                           -theta*360/(2*np.pi))\n",
    "    \n",
    "    if not contains([boulder_lon, boulder_lat]):\n",
    "        plt.figure()\n",
    "        plt.scatter(corners[:,0], corners[:,1], label='Scene %d' % i)\n",
    "        plt.scatter([boulder_lon], [boulder_lat], marker='+', label='Boulder', s=100)\n",
    "        plt.legend()\n",
    "    \n",
    "boulder_lon, boulder_lat"
   ]
  },
  {
   "cell_type": "code",
   "execution_count": null,
   "metadata": {},
   "outputs": [],
   "source": []
  }
 ],
 "metadata": {
  "jupytext": {
   "cell_metadata_filter": "all,-slideshow"
  },
  "kernelspec": {
   "display_name": "Python 3",
   "language": "python",
   "name": "python3"
  },
  "language_info": {
   "codemirror_mode": {
    "name": "ipython",
    "version": 3
   },
   "file_extension": ".py",
   "mimetype": "text/x-python",
   "name": "python",
   "nbconvert_exporter": "python",
   "pygments_lexer": "ipython3",
   "version": "3.8.5"
  }
 },
 "nbformat": 4,
 "nbformat_minor": 4
}
