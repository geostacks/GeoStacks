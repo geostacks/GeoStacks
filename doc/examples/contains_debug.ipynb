{
 "cells": [
  {
   "cell_type": "code",
   "execution_count": 1,
   "metadata": {},
   "outputs": [
    {
     "name": "stdout",
     "output_type": "stream",
     "text": [
      "/home/espg/software/GeoStacks\n"
     ]
    }
   ],
   "source": [
    "cd ../.."
   ]
  },
  {
   "cell_type": "code",
   "execution_count": 2,
   "metadata": {},
   "outputs": [],
   "source": [
    "import pandas as pd\n",
    "import numpy as np\n",
    "\n",
    "from geostacks.utils import bearing, representation"
   ]
  },
  {
   "cell_type": "code",
   "execution_count": 3,
   "metadata": {},
   "outputs": [
    {
     "name": "stdout",
     "output_type": "stream",
     "text": [
      "Populating the interactive namespace from numpy and matplotlib\n"
     ]
    }
   ],
   "source": [
    "%pylab inline"
   ]
  },
  {
   "cell_type": "code",
   "execution_count": 4,
   "metadata": {},
   "outputs": [],
   "source": [
    "ls8 = pd.read_excel('./LS8_cornerPts.xlsx')"
   ]
  },
  {
   "cell_type": "code",
   "execution_count": 5,
   "metadata": {},
   "outputs": [
    {
     "data": {
      "text/html": [
       "<div>\n",
       "<style scoped>\n",
       "    .dataframe tbody tr th:only-of-type {\n",
       "        vertical-align: middle;\n",
       "    }\n",
       "\n",
       "    .dataframe tbody tr th {\n",
       "        vertical-align: top;\n",
       "    }\n",
       "\n",
       "    .dataframe thead th {\n",
       "        text-align: right;\n",
       "    }\n",
       "</style>\n",
       "<table border=\"1\" class=\"dataframe\">\n",
       "  <thead>\n",
       "    <tr style=\"text-align: right;\">\n",
       "      <th></th>\n",
       "      <th>path</th>\n",
       "      <th>row</th>\n",
       "      <th>lat_CTR</th>\n",
       "      <th>lon_CTR</th>\n",
       "      <th>lat_UL</th>\n",
       "      <th>lon_UL</th>\n",
       "      <th>lat_UR</th>\n",
       "      <th>lon_UR</th>\n",
       "      <th>lat_LL</th>\n",
       "      <th>lon_LL</th>\n",
       "      <th>lat_LR</th>\n",
       "      <th>lon_LR</th>\n",
       "    </tr>\n",
       "  </thead>\n",
       "  <tbody>\n",
       "    <tr>\n",
       "      <th>0</th>\n",
       "      <td>1</td>\n",
       "      <td>1</td>\n",
       "      <td>80.774791</td>\n",
       "      <td>3.210620</td>\n",
       "      <td>81.923</td>\n",
       "      <td>5.424</td>\n",
       "      <td>80.307</td>\n",
       "      <td>9.947</td>\n",
       "      <td>81.107</td>\n",
       "      <td>-4.125</td>\n",
       "      <td>79.617</td>\n",
       "      <td>1.472</td>\n",
       "    </tr>\n",
       "    <tr>\n",
       "      <th>1</th>\n",
       "      <td>1</td>\n",
       "      <td>2</td>\n",
       "      <td>80.021757</td>\n",
       "      <td>-4.274059</td>\n",
       "      <td>81.203</td>\n",
       "      <td>-3.207</td>\n",
       "      <td>79.699</td>\n",
       "      <td>2.307</td>\n",
       "      <td>80.211</td>\n",
       "      <td>-11.194</td>\n",
       "      <td>78.838</td>\n",
       "      <td>-5.129</td>\n",
       "    </tr>\n",
       "    <tr>\n",
       "      <th>2</th>\n",
       "      <td>1</td>\n",
       "      <td>3</td>\n",
       "      <td>79.129883</td>\n",
       "      <td>-10.647337</td>\n",
       "      <td>80.322</td>\n",
       "      <td>-10.432</td>\n",
       "      <td>78.936</td>\n",
       "      <td>-4.404</td>\n",
       "      <td>79.196</td>\n",
       "      <td>-17.039</td>\n",
       "      <td>77.937</td>\n",
       "      <td>-10.831</td>\n",
       "    </tr>\n",
       "    <tr>\n",
       "      <th>3</th>\n",
       "      <td>1</td>\n",
       "      <td>4</td>\n",
       "      <td>78.130377</td>\n",
       "      <td>-16.029408</td>\n",
       "      <td>79.320</td>\n",
       "      <td>-16.409</td>\n",
       "      <td>78.048</td>\n",
       "      <td>-10.207</td>\n",
       "      <td>78.095</td>\n",
       "      <td>-21.873</td>\n",
       "      <td>76.940</td>\n",
       "      <td>-15.728</td>\n",
       "    </tr>\n",
       "    <tr>\n",
       "      <th>4</th>\n",
       "      <td>1</td>\n",
       "      <td>5</td>\n",
       "      <td>77.048078</td>\n",
       "      <td>-20.572231</td>\n",
       "      <td>78.227</td>\n",
       "      <td>-21.351</td>\n",
       "      <td>77.061</td>\n",
       "      <td>-15.193</td>\n",
       "      <td>76.927</td>\n",
       "      <td>-25.898</td>\n",
       "      <td>75.867</td>\n",
       "      <td>-19.930</td>\n",
       "    </tr>\n",
       "    <tr>\n",
       "      <th>...</th>\n",
       "      <td>...</td>\n",
       "      <td>...</td>\n",
       "      <td>...</td>\n",
       "      <td>...</td>\n",
       "      <td>...</td>\n",
       "      <td>...</td>\n",
       "      <td>...</td>\n",
       "      <td>...</td>\n",
       "      <td>...</td>\n",
       "      <td>...</td>\n",
       "      <td>...</td>\n",
       "      <td>...</td>\n",
       "    </tr>\n",
       "    <tr>\n",
       "      <th>57778</th>\n",
       "      <td>233</td>\n",
       "      <td>244</td>\n",
       "      <td>81.352691</td>\n",
       "      <td>28.155956</td>\n",
       "      <td>81.848</td>\n",
       "      <td>35.646</td>\n",
       "      <td>80.245</td>\n",
       "      <td>30.979</td>\n",
       "      <td>82.435</td>\n",
       "      <td>24.538</td>\n",
       "      <td>80.730</td>\n",
       "      <td>21.560</td>\n",
       "    </tr>\n",
       "    <tr>\n",
       "      <th>57779</th>\n",
       "      <td>233</td>\n",
       "      <td>245</td>\n",
       "      <td>81.718750</td>\n",
       "      <td>18.566867</td>\n",
       "      <td>82.387</td>\n",
       "      <td>25.777</td>\n",
       "      <td>80.691</td>\n",
       "      <td>22.590</td>\n",
       "      <td>82.696</td>\n",
       "      <td>13.461</td>\n",
       "      <td>80.942</td>\n",
       "      <td>12.495</td>\n",
       "    </tr>\n",
       "    <tr>\n",
       "      <th>57780</th>\n",
       "      <td>233</td>\n",
       "      <td>246</td>\n",
       "      <td>81.844418</td>\n",
       "      <td>8.404287</td>\n",
       "      <td>82.680</td>\n",
       "      <td>14.794</td>\n",
       "      <td>80.929</td>\n",
       "      <td>13.576</td>\n",
       "      <td>82.680</td>\n",
       "      <td>2.015</td>\n",
       "      <td>80.929</td>\n",
       "      <td>3.233</td>\n",
       "    </tr>\n",
       "    <tr>\n",
       "      <th>57781</th>\n",
       "      <td>233</td>\n",
       "      <td>247</td>\n",
       "      <td>81.718750</td>\n",
       "      <td>-1.758293</td>\n",
       "      <td>82.696</td>\n",
       "      <td>3.347</td>\n",
       "      <td>80.942</td>\n",
       "      <td>4.314</td>\n",
       "      <td>82.387</td>\n",
       "      <td>-8.969</td>\n",
       "      <td>80.691</td>\n",
       "      <td>-5.781</td>\n",
       "    </tr>\n",
       "    <tr>\n",
       "      <th>57782</th>\n",
       "      <td>233</td>\n",
       "      <td>248</td>\n",
       "      <td>81.352691</td>\n",
       "      <td>-11.347382</td>\n",
       "      <td>82.435</td>\n",
       "      <td>-7.730</td>\n",
       "      <td>80.730</td>\n",
       "      <td>-4.751</td>\n",
       "      <td>81.848</td>\n",
       "      <td>-18.838</td>\n",
       "      <td>80.245</td>\n",
       "      <td>-14.170</td>\n",
       "    </tr>\n",
       "  </tbody>\n",
       "</table>\n",
       "<p>57783 rows × 12 columns</p>\n",
       "</div>"
      ],
      "text/plain": [
       "       path  row    lat_CTR    lon_CTR  lat_UL  lon_UL  lat_UR  lon_UR  \\\n",
       "0         1    1  80.774791   3.210620  81.923   5.424  80.307   9.947   \n",
       "1         1    2  80.021757  -4.274059  81.203  -3.207  79.699   2.307   \n",
       "2         1    3  79.129883 -10.647337  80.322 -10.432  78.936  -4.404   \n",
       "3         1    4  78.130377 -16.029408  79.320 -16.409  78.048 -10.207   \n",
       "4         1    5  77.048078 -20.572231  78.227 -21.351  77.061 -15.193   \n",
       "...     ...  ...        ...        ...     ...     ...     ...     ...   \n",
       "57778   233  244  81.352691  28.155956  81.848  35.646  80.245  30.979   \n",
       "57779   233  245  81.718750  18.566867  82.387  25.777  80.691  22.590   \n",
       "57780   233  246  81.844418   8.404287  82.680  14.794  80.929  13.576   \n",
       "57781   233  247  81.718750  -1.758293  82.696   3.347  80.942   4.314   \n",
       "57782   233  248  81.352691 -11.347382  82.435  -7.730  80.730  -4.751   \n",
       "\n",
       "       lat_LL  lon_LL  lat_LR  lon_LR  \n",
       "0      81.107  -4.125  79.617   1.472  \n",
       "1      80.211 -11.194  78.838  -5.129  \n",
       "2      79.196 -17.039  77.937 -10.831  \n",
       "3      78.095 -21.873  76.940 -15.728  \n",
       "4      76.927 -25.898  75.867 -19.930  \n",
       "...       ...     ...     ...     ...  \n",
       "57778  82.435  24.538  80.730  21.560  \n",
       "57779  82.696  13.461  80.942  12.495  \n",
       "57780  82.680   2.015  80.929   3.233  \n",
       "57781  82.387  -8.969  80.691  -5.781  \n",
       "57782  81.848 -18.838  80.245 -14.170  \n",
       "\n",
       "[57783 rows x 12 columns]"
      ]
     },
     "execution_count": 5,
     "metadata": {},
     "output_type": "execute_result"
    }
   ],
   "source": [
    "ls8"
   ]
  },
  {
   "cell_type": "markdown",
   "metadata": {},
   "source": [
    "# Calculate Bearing per Row as Average\n",
    "\n",
    "Note that the `asending` and `dsending` varibles refer to direction of the moving window with regard to bearing calculation, ***not*** asending/desending paths of the satellite orbit."
   ]
  },
  {
   "cell_type": "code",
   "execution_count": 6,
   "metadata": {},
   "outputs": [],
   "source": [
    "asending = bearing(ls8.lat_CTR[248:497].values, ls8.lon_CTR[248:497].values, \n",
    "                   ls8.lat_CTR[247:496].values, ls8.lon_CTR[247:496].values)\n",
    "\n",
    "# 180 degree offset\n",
    "dsending = bearing(ls8.lat_CTR[247:496].values, ls8.lon_CTR[247:496].values, \n",
    "                   ls8.lat_CTR[248:497].values, ls8.lon_CTR[248:497].values) + 180."
   ]
  },
  {
   "cell_type": "code",
   "execution_count": 7,
   "metadata": {},
   "outputs": [
    {
     "data": {
      "text/plain": [
       "248"
      ]
     },
     "execution_count": 7,
     "metadata": {},
     "output_type": "execute_result"
    }
   ],
   "source": [
    "means = np.mean([asending[0:-1], dsending[1:]], axis=0)\n",
    "# Replace invalid first value with non-averaged valid value\n",
    "means[0] = dsending[1]\n",
    "# Same for last, but on other array\n",
    "means[-1] = asending[-2]\n",
    "len(means)"
   ]
  },
  {
   "cell_type": "code",
   "execution_count": 8,
   "metadata": {},
   "outputs": [
    {
     "data": {
      "text/plain": [
       "[<matplotlib.lines.Line2D at 0x7fb1a72ed310>]"
      ]
     },
     "execution_count": 8,
     "metadata": {},
     "output_type": "execute_result"
    },
    {
     "data": {
      "image/png": "[encoded data removed]",
      "text/plain": [
       "<Figure size 432x288 with 1 Axes>"
      ]
     },
     "metadata": {
      "needs_background": "light"
     },
     "output_type": "display_data"
    }
   ],
   "source": [
    "plot(bearing(ls8.lat_CTR[1:248].values, ls8.lon_CTR[1:248].values, \n",
    "        ls8.lat_CTR[0:247].values, ls8.lon_CTR[0:247].values))\n",
    "plot(means)"
   ]
  },
  {
   "cell_type": "markdown",
   "metadata": {},
   "source": [
    "# Comparing Landsat footprints"
   ]
  },
  {
   "cell_type": "code",
   "execution_count": 9,
   "metadata": {},
   "outputs": [],
   "source": [
    "def get_corners(i):\n",
    "    corners = np.zeros((4,2))\n",
    "    row = ls8[i:i+1]\n",
    "    corners[0,1] = row.lat_UL.values\n",
    "    corners[1,1] = row.lat_UR.values\n",
    "    corners[2,1] = row.lat_LL.values\n",
    "    corners[3,1] = row.lat_LR.values\n",
    "    corners[0,0] = row.lon_UL.values\n",
    "    corners[1,0] = row.lon_UR.values\n",
    "    corners[2,0] = row.lon_LL.values\n",
    "    corners[3,0] = row.lon_LR.values\n",
    "    return corners"
   ]
  },
  {
   "cell_type": "code",
   "execution_count": 10,
   "metadata": {},
   "outputs": [
    {
     "data": {
      "text/html": [
       "<div>\n",
       "<style scoped>\n",
       "    .dataframe tbody tr th:only-of-type {\n",
       "        vertical-align: middle;\n",
       "    }\n",
       "\n",
       "    .dataframe tbody tr th {\n",
       "        vertical-align: top;\n",
       "    }\n",
       "\n",
       "    .dataframe thead th {\n",
       "        text-align: right;\n",
       "    }\n",
       "</style>\n",
       "<table border=\"1\" class=\"dataframe\">\n",
       "  <thead>\n",
       "    <tr style=\"text-align: right;\">\n",
       "      <th></th>\n",
       "      <th>path</th>\n",
       "      <th>row</th>\n",
       "      <th>lat_CTR</th>\n",
       "      <th>lon_CTR</th>\n",
       "      <th>lat_UL</th>\n",
       "      <th>lon_UL</th>\n",
       "      <th>lat_UR</th>\n",
       "      <th>lon_UR</th>\n",
       "      <th>lat_LL</th>\n",
       "      <th>lon_LL</th>\n",
       "      <th>lat_LR</th>\n",
       "      <th>lon_LR</th>\n",
       "    </tr>\n",
       "  </thead>\n",
       "  <tbody>\n",
       "    <tr>\n",
       "      <th>20</th>\n",
       "      <td>1</td>\n",
       "      <td>21</td>\n",
       "      <td>55.911059</td>\n",
       "      <td>-48.487062</td>\n",
       "      <td>56.91</td>\n",
       "      <td>-49.603</td>\n",
       "      <td>56.457</td>\n",
       "      <td>-46.533</td>\n",
       "      <td>55.337</td>\n",
       "      <td>-50.387</td>\n",
       "      <td>54.902</td>\n",
       "      <td>-47.43</td>\n",
       "    </tr>\n",
       "  </tbody>\n",
       "</table>\n",
       "</div>"
      ],
      "text/plain": [
       "    path  row    lat_CTR    lon_CTR  lat_UL  lon_UL  lat_UR  lon_UR  lat_LL  \\\n",
       "20     1   21  55.911059 -48.487062   56.91 -49.603  56.457 -46.533  55.337   \n",
       "\n",
       "    lon_LL  lat_LR  lon_LR  \n",
       "20 -50.387  54.902  -47.43  "
      ]
     },
     "execution_count": 10,
     "metadata": {},
     "output_type": "execute_result"
    }
   ],
   "source": [
    "ls8[20:21]"
   ]
  },
  {
   "cell_type": "code",
   "execution_count": 11,
   "metadata": {},
   "outputs": [
    {
     "data": {
      "text/plain": [
       "array([[-49.603,  56.91 ],\n",
       "       [-46.533,  56.457],\n",
       "       [-50.387,  55.337],\n",
       "       [-47.43 ,  54.902]])"
      ]
     },
     "execution_count": 11,
     "metadata": {},
     "output_type": "execute_result"
    }
   ],
   "source": [
    "get_corners(20)"
   ]
  },
  {
   "cell_type": "code",
   "execution_count": 12,
   "metadata": {},
   "outputs": [],
   "source": [
    "def compare(idx):\n",
    "    ref = get_corners(idx)\n",
    "    scene = ls8[idx:idx+1]\n",
    "    corners, contains, _, _, _ = representation(radians(scene.lon_CTR.values)[0], \n",
    "                                            radians(scene.lat_CTR.values)[0], \n",
    "                                            means[scene.row.values -1][0],\n",
    "                                            185, 180)\n",
    "    calc = np.degrees(corners)\n",
    "    lat_error, lon_error = np.mean(np.abs(ref[ref[:,0].argsort()] - calc[calc[:,0].argsort()]), axis=0)\n",
    "    return lat_error, lon_error"
   ]
  },
  {
   "cell_type": "code",
   "execution_count": 13,
   "metadata": {},
   "outputs": [],
   "source": [
    "lats_err, lons_err = [], []\n",
    "for i in range(19,100):\n",
    "    lat, lon = compare(i)\n",
    "    lats_err.append(lat), lons_err.append(lon)"
   ]
  },
  {
   "cell_type": "code",
   "execution_count": 14,
   "metadata": {},
   "outputs": [
    {
     "data": {
      "text/plain": [
       "False"
      ]
     },
     "execution_count": 14,
     "metadata": {},
     "output_type": "execute_result"
    }
   ],
   "source": [
    "(np.array(lats_err) < 0.01).all() == True"
   ]
  },
  {
   "cell_type": "code",
   "execution_count": 15,
   "metadata": {},
   "outputs": [
    {
     "data": {
      "text/plain": [
       "[<matplotlib.lines.Line2D at 0x7fb1a6656790>]"
      ]
     },
     "execution_count": 15,
     "metadata": {},
     "output_type": "execute_result"
    },
    {
     "data": {
      "image/png": "[encoded data removed]",
      "text/plain": [
       "<Figure size 432x288 with 1 Axes>"
      ]
     },
     "metadata": {
      "needs_background": "light"
     },
     "output_type": "display_data"
    }
   ],
   "source": [
    "plot(lats_err)"
   ]
  },
  {
   "cell_type": "code",
   "execution_count": 16,
   "metadata": {},
   "outputs": [
    {
     "data": {
      "text/plain": [
       "[<matplotlib.lines.Line2D at 0x7fb1ab81f040>]"
      ]
     },
     "execution_count": 16,
     "metadata": {},
     "output_type": "execute_result"
    },
    {
     "data": {
      "image/png": "[encoded data removed]",
      "text/plain": [
       "<Figure size 432x288 with 1 Axes>"
      ]
     },
     "metadata": {
      "needs_background": "light"
     },
     "output_type": "display_data"
    }
   ],
   "source": [
    "plot(lons_err)"
   ]
  },
  {
   "cell_type": "code",
   "execution_count": 17,
   "metadata": {},
   "outputs": [
    {
     "data": {
      "text/plain": [
       "array([[-47.88144507,  54.80264475],\n",
       "       [-46.47993565,  56.21360348],\n",
       "       [-50.46148037,  55.5763997 ],\n",
       "       [-49.12827268,  57.01632719]])"
      ]
     },
     "execution_count": 17,
     "metadata": {},
     "output_type": "execute_result"
    }
   ],
   "source": [
    "# Swapping swadth dimentions...\n",
    "scene = ls8[20:21]\n",
    "# Change scene index above... need i and i+1 since pandas expects slice\n",
    "\n",
    "corners1, contains, _, _, _ = representation(radians(scene.lon_CTR.values)[0], \n",
    "                                            radians(scene.lat_CTR.values)[0], \n",
    "                                            means[scene.row.values -1][0],\n",
    "                                            len_lon=185,\n",
    "                                            len_lat=180)\n",
    "np.degrees(corners1)"
   ]
  },
  {
   "cell_type": "code",
   "execution_count": 18,
   "metadata": {},
   "outputs": [
    {
     "data": {
      "text/plain": [
       "[<matplotlib.lines.Line2D at 0x7fb1a66d8490>]"
      ]
     },
     "execution_count": 18,
     "metadata": {},
     "output_type": "execute_result"
    },
    {
     "data": {
      "image/png": "[encoded data removed]",
      "text/plain": [
       "<Figure size 432x288 with 1 Axes>"
      ]
     },
     "metadata": {
      "needs_background": "light"
     },
     "output_type": "display_data"
    }
   ],
   "source": [
    "plot(get_corners(20)[:,0],get_corners(20)[:,1],'k*')\n",
    "plot(np.degrees(corners1[:,0]), \n",
    "     np.degrees(corners1[:,1]), 'b*')"
   ]
  },
  {
   "cell_type": "code",
   "execution_count": 19,
   "metadata": {},
   "outputs": [
    {
     "data": {
      "text/plain": [
       "array([[-61.15217436,  12.04241269],\n",
       "       [-60.7901018 ,  13.62223053],\n",
       "       [-62.81481465,  12.39878744],\n",
       "       [-62.46286193,  13.98088492]])"
      ]
     },
     "execution_count": 19,
     "metadata": {},
     "output_type": "execute_result"
    }
   ],
   "source": [
    "# Swapping swadth dimentions...\n",
    "scene = ls8[50:51]\n",
    "# Change scene index above... need i and i+1 since pandas expects slice\n",
    "\n",
    "corners1, contains, _, _, _ = representation(radians(scene.lon_CTR.values)[0], \n",
    "                                            radians(scene.lat_CTR.values)[0], \n",
    "                                            means[scene.row.values -1][0],\n",
    "                                            len_lon=185,\n",
    "                                            len_lat=180)\n",
    "np.degrees(corners1)"
   ]
  },
  {
   "cell_type": "code",
   "execution_count": 20,
   "metadata": {},
   "outputs": [
    {
     "data": {
      "text/plain": [
       "[<matplotlib.lines.Line2D at 0x7fb1a6640e50>]"
      ]
     },
     "execution_count": 20,
     "metadata": {},
     "output_type": "execute_result"
    },
    {
     "data": {
      "image/png": "[encoded data removed]",
      "text/plain": [
       "<Figure size 432x288 with 1 Axes>"
      ]
     },
     "metadata": {
      "needs_background": "light"
     },
     "output_type": "display_data"
    }
   ],
   "source": [
    "plot(get_corners(50)[:,0],get_corners(50)[:,1],'k*')\n",
    "plot(np.degrees(corners1[:,0]), \n",
    "     np.degrees(corners1[:,1]), 'b*')"
   ]
  },
  {
   "cell_type": "code",
   "execution_count": null,
   "metadata": {},
   "outputs": [],
   "source": []
  },
  {
   "cell_type": "code",
   "execution_count": null,
   "metadata": {},
   "outputs": [],
   "source": []
  },
  {
   "cell_type": "code",
   "execution_count": null,
   "metadata": {},
   "outputs": [],
   "source": []
  },
  {
   "cell_type": "code",
   "execution_count": null,
   "metadata": {},
   "outputs": [],
   "source": []
  },
  {
   "cell_type": "markdown",
   "metadata": {},
   "source": [
    "# Jonathan's Contains Code"
   ]
  },
  {
   "cell_type": "markdown",
   "metadata": {},
   "source": [
    "Let $C$ be the center point and $\\theta$ is the tilt angle there is a corresponding \"unit tangent vector\" to the sphere with that tilt. Call this vector $v$."
   ]
  },
  {
   "cell_type": "markdown",
   "metadata": {},
   "source": [
    "To move $C$ along $v$ a distance $D$ in a sphere of radius $R$ is something like\n",
    "\n",
    "$$\n",
    "P_1  = \\cos(A) \\cdot C + R\\cdot \\sin (A) \\cdot v\n",
    "$$\n",
    "where $A$ corresponds to 90km in radians. This is `midpt_1` in code below. Moving in the direction $-v$\n",
    "yields\n",
    "$$\n",
    "P_2  = \\cos(A) \\cdot C - R\\cdot \\sin (A) \\cdot v\n",
    "$$\n",
    "which is referred to as `midpt_2` below."
   ]
  },
  {
   "cell_type": "code",
   "execution_count": 21,
   "metadata": {},
   "outputs": [],
   "source": [
    "import numpy as np\n",
    "import functools \n",
    "lat_deg, lon_deg = 77.875, -20.975\n",
    "lat, lon, R, theta = lat_deg*(2*np.pi)/360, lon_deg*(2*np.pi)/360, 6371, -70 * 2 * np.pi / 360\n",
    "boulder_lat, boulder_lon = lat, lon\n",
    "x, y, z = (R * np.cos(lat) * np.sin(lon), R * np.cos(lat) * np.cos(lon), R * np.sin(lat))\n",
    "C = np.array([x,y,z])"
   ]
  },
  {
   "cell_type": "markdown",
   "metadata": {},
   "source": [
    "## Computing $v$ from $\\theta$\n",
    "\n",
    "At a point $C=[x,y,z]$, a tilt can be thought of as moving through lat and lon along a line with direction vector $d=(d_lon, d_lat)$, so we have \n",
    "in parameters $t$\n",
    "$$\n",
    "x(t), y(t), z(t) = (R * \\cos(lat_0 + t dlat) * \\cos(lon_0 + t dlon), R * \\cos(lat_0 + t dlat) * \\sin(lon_0 + t dlon), R * \\sin(lat_0 + t dlat))\n",
    "$$"
   ]
  },
  {
   "cell_type": "markdown",
   "metadata": {},
   "source": [
    "Differentiating with respect to $t$\n",
    "(ignoring the $R$ scaling as we want normalized $v$) we see $v$ is parallel\n",
    "to \n",
    "$$\n",
    "R\\cdot (-\\sin (lat_0) \\cos(lon_0) dlat - \\cos(lat_0) \\sin(lon_0) dlon, -\\sin(lat_0) \\sin(lon_0) dlat + \\cos(lat_0) \\cos(lon_0) dlon, \\cos(lat_0) dlat)\n",
    "$$"
   ]
  },
  {
   "cell_type": "code",
   "execution_count": 22,
   "metadata": {},
   "outputs": [
    {
     "data": {
      "text/plain": [
       "2.2737367544323206e-13"
      ]
     },
     "execution_count": 22,
     "metadata": {},
     "output_type": "execute_result"
    }
   ],
   "source": [
    "dlat, dlon = np.sin(theta), np.cos(theta)\n",
    "v = np.array([-np.sin(lat) * np.sin(lon) * dlat + np.cos(lat) * np.cos(lon) * dlon,\n",
    "              -np.sin(lat) * np.cos(lon) * dlat - np.cos(lat) * np.sin(lon) * dlon,\n",
    "              np.cos(lat) * dlat])\n",
    "v /= np.linalg.norm(v) \n",
    "np.sum(v*C)"
   ]
  },
  {
   "cell_type": "markdown",
   "metadata": {},
   "source": [
    "The angle $A$ is \n",
    "$$\n",
    "\\frac{A}{2\\pi} = \\frac{90km}{2 \\pi \\cdot 6371km}\n",
    "$$"
   ]
  },
  {
   "cell_type": "code",
   "execution_count": 23,
   "metadata": {},
   "outputs": [
    {
     "data": {
      "text/plain": [
       "0.014126510751844295"
      ]
     },
     "execution_count": 23,
     "metadata": {},
     "output_type": "execute_result"
    }
   ],
   "source": [
    "A = 90/R\n",
    "A"
   ]
  },
  {
   "cell_type": "code",
   "execution_count": 24,
   "metadata": {},
   "outputs": [
    {
     "data": {
      "text/plain": [
       "(89.99925165821908, 0.9999002225062911, 0.9999002225062912)"
      ]
     },
     "execution_count": 24,
     "metadata": {},
     "output_type": "execute_result"
    }
   ],
   "source": [
    "midpt_1 = np.cos(A) * C + R * np.sin(A) * v\n",
    "np.linalg.norm(midpt_1 - C), np.dot(midpt_1, C) / R**2, np.cos(A)"
   ]
  },
  {
   "cell_type": "markdown",
   "metadata": {},
   "source": [
    "To find next corner, we move $\\perp$ to $v$.\n",
    "That direction can be found by\n",
    "$$\n",
    "v \\times P_1.\n",
    "$$\n",
    "Let $v^{\\perp}$ be the unit vector in this direction."
   ]
  },
  {
   "cell_type": "code",
   "execution_count": 25,
   "metadata": {},
   "outputs": [
    {
     "data": {
      "text/plain": [
       "array([-0.95769775, -0.28733023, -0.01601127])"
      ]
     },
     "execution_count": 25,
     "metadata": {},
     "output_type": "execute_result"
    }
   ],
   "source": [
    "v_perp = np.cross(midpt_1, v) # == np.cross(C, v)\n",
    "v_perp /= np.linalg.norm(v_perp)\n",
    "v_perp"
   ]
  },
  {
   "cell_type": "markdown",
   "metadata": {},
   "source": [
    "We will then move 92.5km from $P_1$ in the direction \n",
    "$$\n",
    "P_2 = \\cos(B) \\cdot P_1 + R \\cdot \\sin(B) \\cdot v^{\\perp}\n",
    "$$\n",
    "where\n",
    "$$\n",
    "\\frac{B}{2\\pi} = \\frac{92.5km}{6371km}\n",
    "$$"
   ]
  },
  {
   "cell_type": "code",
   "execution_count": 26,
   "metadata": {},
   "outputs": [
    {
     "data": {
      "text/plain": [
       "[array([-592.50445431, 1307.05760939, 6207.2683104 ]),\n",
       " array([-415.33659543, 1360.21183452, 6210.23029184]),\n",
       " array([-542.51096281, 1138.32435259, 6244.96121073]),\n",
       " array([-365.34310393, 1191.47857771, 6247.92319217])]"
      ]
     },
     "execution_count": 26,
     "metadata": {},
     "output_type": "execute_result"
    }
   ],
   "source": [
    "B = 92.5/6371\n",
    "corners = [np.cos(B) * midpt_1 + R * np.sin(B) * v_perp]\n",
    "corners.append(np.cos(B) * midpt_1 - R * np.sin(B) * v_perp)\n",
    "\n",
    "v_perp = np.cross(midpt_1, v) # == np.cross(C, v)\n",
    "v_perp /= np.linalg.norm(v_perp)\n",
    "v_perp\n",
    "midpt_2 = np.cos(A) * C - R * np.sin(A) * v\n",
    "corners.append(np.cos(B) * midpt_2 + R * np.sin(B) * v_perp)\n",
    "corners.append(np.cos(B) * midpt_2 - R * np.sin(B) * v_perp)\n",
    "\n",
    "corners"
   ]
  },
  {
   "cell_type": "code",
   "execution_count": 27,
   "metadata": {},
   "outputs": [
    {
     "data": {
      "text/plain": [
       "[6370.999999999999, 6370.999999999999, 6371.000000000001, 6371.0]"
      ]
     },
     "execution_count": 27,
     "metadata": {},
     "output_type": "execute_result"
    }
   ],
   "source": [
    "[np.linalg.norm(corner) for corner in corners]"
   ]
  },
  {
   "cell_type": "markdown",
   "metadata": {},
   "source": [
    "We can find another corner\n",
    "$$\n",
    "\\cos(A') \\cdot P_1 - R \\cdot \\sin(A') \\cdot v^{\\perp}\n",
    "$$ \n",
    "and similarly other corners."
   ]
  },
  {
   "cell_type": "markdown",
   "metadata": {},
   "source": [
    "### Now convert back to lat lon"
   ]
  },
  {
   "cell_type": "code",
   "execution_count": 28,
   "metadata": {},
   "outputs": [
    {
     "data": {
      "text/plain": [
       "[76.98228647840101, 77.10107655680675, 78.58424793008591, 78.71962386426219]"
      ]
     },
     "execution_count": 28,
     "metadata": {},
     "output_type": "execute_result"
    }
   ],
   "source": [
    "lat_degs = [np.arcsin(z_ / R) / (2 * np.pi) * 360 for x_, y_, z_ in corners]\n",
    "lat_degs"
   ]
  },
  {
   "cell_type": "code",
   "execution_count": 29,
   "metadata": {},
   "outputs": [
    {
     "data": {
      "text/plain": [
       "[-24.385340987196813,\n",
       " -16.97989338413503,\n",
       " -25.481877244698317,\n",
       " -17.04711191156147]"
      ]
     },
     "execution_count": 29,
     "metadata": {},
     "output_type": "execute_result"
    }
   ],
   "source": [
    "lon_degs = [np.arctan2(x_ / R, y_ / R) / (2 * np.pi) * 360 for x_, y_, z_ in corners]\n",
    "lon_degs"
   ]
  },
  {
   "cell_type": "code",
   "execution_count": 30,
   "metadata": {},
   "outputs": [],
   "source": [
    "%matplotlib inline\n",
    "import matplotlib.pyplot as plt"
   ]
  },
  {
   "cell_type": "code",
   "execution_count": 31,
   "metadata": {},
   "outputs": [
    {
     "data": {
      "text/plain": [
       "<matplotlib.collections.PathCollection at 0x7fb1a7905970>"
      ]
     },
     "execution_count": 31,
     "metadata": {},
     "output_type": "execute_result"
    },
    {
     "data": {
      "image/png": "[encoded data removed]",
      "text/plain": [
       "<Figure size 432x288 with 1 Axes>"
      ]
     },
     "metadata": {
      "needs_background": "light"
     },
     "output_type": "display_data"
    }
   ],
   "source": [
    "plt.scatter(lon_degs, lat_degs)\n",
    "plt.scatter([lon_deg], [lat_deg])"
   ]
  },
  {
   "cell_type": "markdown",
   "metadata": {},
   "source": [
    "### A representation of the scene that implements `contains`"
   ]
  },
  {
   "cell_type": "code",
   "execution_count": 32,
   "metadata": {},
   "outputs": [],
   "source": [
    "def representation(center_lon,  # in radians\n",
    "                   center_lat,  # in radians\n",
    "                   instrument_tilt, # in degrees, rotation clockwise\n",
    "                   len_lon=180, # extent in km\n",
    "                   len_lat=185, # extent in km\n",
    "                   R=6371):      # \"radius\" of earth\n",
    "\n",
    "    tilt_deg = instrument_tilt * 2 * np.pi / 360\n",
    "\n",
    "    x, y, z = (R * np.cos(center_lat) *\n",
    "               np.sin(center_lon),\n",
    "               R * np.cos(center_lat) *\n",
    "               np.cos(center_lon), R * np.sin(center_lat))\n",
    "    C = np.array([x,y,z]) # center of scene\n",
    "\n",
    "    dlat, dlon = np.sin(-tilt_deg), np.cos(-tilt_deg)\n",
    "    dir_lon = np.array([-np.sin(center_lat) * np.sin(center_lon) * dlat +\n",
    "                       np.cos(center_lat) * np.cos(center_lon) * dlon,\n",
    "                       -np.sin(center_lat) * np.cos(center_lon) * dlat -\n",
    "                       np.cos(center_lat) * np.sin(center_lon) * dlon,\n",
    "                       np.cos(center_lat) * dlat])\n",
    "    dir_lon /= np.linalg.norm(dir_lon) \n",
    "\n",
    "    A = len_lon / 2 / R\n",
    "    midpt_1 = np.cos(A) * C + R * np.sin(A) * dir_lon\n",
    "\n",
    "    dir_lat = np.cross(midpt_1, dir_lon)\n",
    "    dir_lat /= np.linalg.norm(dir_lat)\n",
    "\n",
    "    B = len_lat/ 2 / R\n",
    "\n",
    "    corners = [np.cos(B) * midpt_1 + R * np.sin(B) * dir_lat]\n",
    "    corners.append(np.cos(B) * midpt_1 - R * np.sin(B) * dir_lat)\n",
    "\n",
    "    midpt_2 = np.cos(A) * C - R * np.sin(A) * dir_lon\n",
    "    corners.append(np.cos(B) * midpt_2 + R * np.sin(B) * dir_lat)\n",
    "    corners.append(np.cos(B) * midpt_2 - R * np.sin(B) * dir_lat)\n",
    "    corners = np.array(corners)\n",
    "    \n",
    "    corners_lon_lat = np.array([(np.arctan2(x_ / R, y_ / R),\n",
    "                                 np.arcsin(z_ / R)) for x_, y_, z_ in corners])\n",
    "\n",
    "    # now work out halfspace\n",
    "\n",
    "    # these are the edge segmentsin lon/lat space\n",
    "    supports = [corners_lon_lat[0]-corners_lon_lat[1],\n",
    "                corners_lon_lat[0]-corners_lon_lat[2],\n",
    "                corners_lon_lat[1]-corners_lon_lat[3],\n",
    "                corners_lon_lat[2]-corners_lon_lat[3]] \n",
    "\n",
    "    # normals to each edge segment\n",
    "    normals = np.array([(s[1],-s[0]) for s in supports])\n",
    "    pts = [corners_lon_lat[0],   # a point within each edge\n",
    "           corners_lon_lat[0],\n",
    "           corners_lon_lat[1],\n",
    "           corners_lon_lat[3]]\n",
    "    bdry_values = np.array([np.sum(n * p) for n, p in zip(normals, pts)])\n",
    "    center_values = [np.sum(n * [center_lon, center_lat]) for n in normals]\n",
    "    center_signs = np.sign(center_values - bdry_values)\n",
    "\n",
    "    def _check(normals, center_signs, bdry_values, lon_lat_vals):\n",
    "        normal_mul = np.asarray(lon_lat_vals).dot(normals.T)\n",
    "        values_ = normal_mul - bdry_values[None,:]\n",
    "        signs_ = np.sign(values_) * center_signs[None,:]\n",
    "        return np.squeeze(np.all(signs_ == 1, 1))\n",
    "\n",
    "    _check = functools.partial(_check, normals, center_signs, bdry_values)\n",
    "        \n",
    "    return corners_lon_lat, _check, normals, bdry_values, center_signs\n"
   ]
  },
  {
   "cell_type": "markdown",
   "metadata": {},
   "source": [
    "### What needs to be stored\n",
    "\n",
    "- We need to store `normals`, `bdry_values` and `center_signs` for each scene."
   ]
  },
  {
   "cell_type": "code",
   "execution_count": 33,
   "metadata": {},
   "outputs": [],
   "source": [
    "corners, contains, normals, bdry_values, center_signs = representation(radians(-10.647337), \n",
    "                                                                       radians(79.129883), \n",
    "                                                                       49.27267632,\n",
    "                                                                       len_lat=200, \n",
    "                                                                       len_lon=200)"
   ]
  },
  {
   "cell_type": "markdown",
   "metadata": {},
   "source": [
    "### How `contains` is determined\n",
    "\n",
    "- Function can check several query points at once....\n"
   ]
  },
  {
   "cell_type": "code",
   "execution_count": 34,
   "metadata": {},
   "outputs": [],
   "source": [
    "def _check(normals, center_signs, bdry_values, lon_lat_vals):\n",
    "    normal_mul = np.asarray(lon_lat_vals).dot(normals.T)\n",
    "    values_ = normal_mul - bdry_values[None,:]\n",
    "    signs_ = np.sign(values_) * center_signs[None,:]\n",
    "    return np.squeeze(np.all(signs_ == 1, 1))\n",
    "import functools\n",
    "\n",
    "contains = functools.partial(_check, normals, center_signs, bdry_values)"
   ]
  }
 ],
 "metadata": {
  "jupytext": {
   "cell_metadata_filter": "all,-slideshow"
  },
  "kernelspec": {
   "display_name": "Python 3",
   "language": "python",
   "name": "python3"
  },
  "language_info": {
   "codemirror_mode": {
    "name": "ipython",
    "version": 3
   },
   "file_extension": ".py",
   "mimetype": "text/x-python",
   "name": "python",
   "nbconvert_exporter": "python",
   "pygments_lexer": "ipython3",
   "version": "3.8.9"
  }
 },
 "nbformat": 4,
 "nbformat_minor": 4
}
