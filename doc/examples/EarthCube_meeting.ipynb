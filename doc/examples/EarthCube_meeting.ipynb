{
 "cells": [
  {
   "cell_type": "code",
   "execution_count": 1,
   "id": "threaded-destiny",
   "metadata": {},
   "outputs": [],
   "source": [
    "# Autoreload extension\n",
    "%load_ext autoreload\n",
    "%autoreload 2"
   ]
  },
  {
   "cell_type": "code",
   "execution_count": 2,
   "id": "biblical-madagascar",
   "metadata": {},
   "outputs": [],
   "source": [
    "# Add path to geostacks\n",
    "import sys, os\n",
    "#sys.path.insert(0, '../../')"
   ]
  },
  {
   "cell_type": "code",
   "execution_count": 3,
   "id": "afaf468e-574a-4656-9bab-95e04b1bd92c",
   "metadata": {},
   "outputs": [],
   "source": [
    "#sys.path.insert(0, os.path.abspath('../../_build/pip_packages/lib/python3.8/site-packages/'))"
   ]
  },
  {
   "cell_type": "code",
   "execution_count": 4,
   "id": "broadband-ocean",
   "metadata": {},
   "outputs": [],
   "source": [
    "# Load geostacks\n",
    "from geostacks import SpatialIndexLS8\n",
    "\n",
    "# Load UI components\n",
    "import ipyleaflet as ilfl\n",
    "import ipywidgets as iwg"
   ]
  },
  {
   "cell_type": "code",
   "execution_count": 5,
   "id": "regional-martin",
   "metadata": {},
   "outputs": [
    {
     "name": "stdout",
     "output_type": "stream",
     "text": [
      "None\n",
      "------------------\n",
      "      path  row    lat_CTR    lon_CTR     lat_UL     lon_UL     lat_UR  \\\n",
      "695      8   11  69.606470 -47.813174  70.756261 -49.045943  69.997303   \n",
      "696      8   12  68.279699 -49.506130  69.419648 -50.743468  68.700888   \n",
      "782      9   11  69.606482 -49.355231  70.757156 -50.589565  69.997520   \n",
      "783      9   12  68.279697 -51.046291  69.420484 -52.285488  68.700913   \n",
      "866     10   11  69.606439 -50.895321  70.756467 -52.132700  69.996319   \n",
      "6845    81  233  69.606467 -48.202833  69.158069 -44.965508  68.442808   \n",
      "6915    82  233  69.606440 -49.749759  69.160805 -46.513479  68.444886   \n",
      "7017    83  232  68.279726 -49.604053  67.806027 -46.581815  67.125546   \n",
      "7018    83  233  69.606447 -51.293647  69.158697 -48.052981  68.442311   \n",
      "7087    84  232  68.279691 -51.145138  67.808695 -48.124313  67.127863   \n",
      "\n",
      "         lon_UR     lat_LL     lon_LL     lat_LR     lon_LR  \n",
      "695  -44.451408  69.154025 -51.050718  68.439813 -46.725544  \n",
      "696  -46.367352  67.801954 -52.529493  67.122236 -48.403704  \n",
      "782  -45.990513  69.153716 -52.595528  68.438861 -48.266305  \n",
      "783  -47.904523  67.801817 -54.072478  67.121321 -49.942257  \n",
      "866  -47.530333  69.154836 -54.136166  68.439445 -49.803544  \n",
      "6845 -49.295142  70.763699 -46.977141  70.002875 -51.580448  \n",
      "6915 -50.847126  70.761497 -48.518743  70.000130 -53.125468  \n",
      "7017 -50.709373  69.426907 -48.374276  68.706648 -52.756036  \n",
      "7018 -52.389424  70.764101 -50.064050  70.002091 -54.674559  \n",
      "7087 -52.255251  69.424457 -49.910379  68.703970 -54.294948  \n"
     ]
    }
   ],
   "source": [
    "ls8_index = SpatialIndexLS8('../../LANDSAT_8_C1_cornerpoints.csv')\n",
    "ls8_index.read()\n",
    "print(ls8_index.footprint)\n",
    "print('------------------')\n",
    "\n",
    "query_pt = [-50., 69.]\n",
    "idxs = ls8_index.query_pathrow(69, -50)\n",
    "print(ls8_index.corner_pts_df.iloc[idxs])"
   ]
  },
  {
   "cell_type": "code",
   "execution_count": 28,
   "id": "permanent-rugby",
   "metadata": {},
   "outputs": [],
   "source": [
    "class geostacks_ui():\n",
    "    \n",
    "    def __init__(self, zoom=4, lon=-50.,lat=69., spatial_index=None):\n",
    "        \n",
    "        self.zoom = zoom\n",
    "        self.lat = lat\n",
    "        self.lon = lon\n",
    "        self.mainmap = None\n",
    "        self.marker = None\n",
    "        self.idxs = None\n",
    "        self.ui_title = None\n",
    "        self.prlist = []\n",
    "        self.menuleft = None     # path / row menu\n",
    "        self.pr_selection = None\n",
    "        self.map_polygon = None\n",
    "        self.spatial_index = spatial_index\n",
    "        self.output = None       # print message output (unused for now)\n",
    "        self.results = None      # store results (unused for now)\n",
    "        \n",
    "    def init_panelleft(self):\n",
    "        self.ui_title = iwg.HTML(\"<h2>Drag the marker to your region of interest</h2>\")\n",
    "        self.idxs = self.spatial_index.query_pathrow(self.lat,self.lon)\n",
    "        self.prlist = [('{:03d}/{:03d}'.format(self.spatial_index.corner_pts_df.iloc[i, 'path'], \n",
    "                                               self.spatial_index.corner_pts_df.iloc[i, 'row']) ,\n",
    "                        i) for i in self.idxs]\n",
    "        self.menuleft = iwg.Select(options=self.prlist, description='Path/Row:', rows=15)\n",
    "        \n",
    "    def init_map(self):\n",
    "        self.mainmap = ilfl.Map(basemap=ilfl.basemaps.Gaode.Satellite,\n",
    "                                center=[self.lat, self.lon], zoom=self.zoom)\n",
    "        self.marker = ilfl.Marker(location=[self.lat, self.lon], draggable=True)\n",
    "        self.mainmap.add_layer(self.marker)\n",
    "        self.pr_selection = self.idxs[0]\n",
    "        self.map_polygon = self.spatial_index.corner_pts_df.iloc[self.pr_selection]\n",
    "        self.mainmap.add_layer(self.map_polygon)\n",
    "        \n",
    "    def gen_ui(self, spatial_index=None):\n",
    "        if self.spatial_index is None:\n",
    "            self.spatial_index = spatial_index\n",
    "        \n",
    "        self.init_panelleft()\n",
    "        self.init_map()\n",
    "        \n",
    "        self.marker.observe(self._on_location_changed, 'location')\n",
    "        self.menuleft.observe(self._on_menuleft_selection_changed, names='value')\n",
    "        leftside = iwg.VBox([self.ui_title, self.menuleft])\n",
    "        leftside.layout.align_items = 'center'\n",
    "        return iwg.AppLayout(left_sidebar=leftside, center=self.mainmap)\n",
    "\n",
    "    # ==== leftmenu update when map marker loc changes\n",
    "    \n",
    "    def _on_location_changed(self, event):\n",
    "        self.query_pt = [self.marker.location[-1], self.marker.location[0]]\n",
    "        self.idxs = self.spatial_index.query_pathrow(self.lat, self.lon)\n",
    "        self.prlist = [('{:03d}/{:03d}'.format(self.spatial_index.corner_pts_df.iloc[i, 'path'], \n",
    "                                               self.spatial_index.corner_pts_df.iloc[i, 'row']) ,i) for i in self.idxs]\n",
    "        self.menuleft.options = self.prlist\n",
    "        \n",
    "    # ==== map polygon update when leftmenu selection changes\n",
    "\n",
    "    def _on_menuleft_selection_changed(self, change):\n",
    "        self.pr_selection = change['new']\n",
    "        self.map_polygon=self.spatial_index.corner_pts_df.loc[self.pr_selection]\n"
   ]
  },
  {
   "cell_type": "code",
   "execution_count": 29,
   "id": "congressional-drove",
   "metadata": {},
   "outputs": [
    {
     "ename": "ValueError",
     "evalue": "Location based indexing can only have [integer, integer slice (START point is INCLUDED, END point is EXCLUDED), listlike of integers, boolean array] types",
     "output_type": "error",
     "traceback": [
      "\u001b[0;31m---------------------------------------------------------------------------\u001b[0m",
      "\u001b[0;31mValueError\u001b[0m                                Traceback (most recent call last)",
      "\u001b[0;32m/nix/store/jx0vjrvr60phbmjbp1df0pjy33m2iw0l-python3-3.8.9-env/lib/python3.8/site-packages/pandas/core/indexing.py\u001b[0m in \u001b[0;36m_has_valid_tuple\u001b[0;34m(self, key)\u001b[0m\n\u001b[1;32m    722\u001b[0m             \u001b[0;32mtry\u001b[0m\u001b[0;34m:\u001b[0m\u001b[0;34m\u001b[0m\u001b[0;34m\u001b[0m\u001b[0m\n\u001b[0;32m--> 723\u001b[0;31m                 \u001b[0mself\u001b[0m\u001b[0;34m.\u001b[0m\u001b[0m_validate_key\u001b[0m\u001b[0;34m(\u001b[0m\u001b[0mk\u001b[0m\u001b[0;34m,\u001b[0m \u001b[0mi\u001b[0m\u001b[0;34m)\u001b[0m\u001b[0;34m\u001b[0m\u001b[0;34m\u001b[0m\u001b[0m\n\u001b[0m\u001b[1;32m    724\u001b[0m             \u001b[0;32mexcept\u001b[0m \u001b[0mValueError\u001b[0m \u001b[0;32mas\u001b[0m \u001b[0merr\u001b[0m\u001b[0;34m:\u001b[0m\u001b[0;34m\u001b[0m\u001b[0;34m\u001b[0m\u001b[0m\n",
      "\u001b[0;32m/nix/store/jx0vjrvr60phbmjbp1df0pjy33m2iw0l-python3-3.8.9-env/lib/python3.8/site-packages/pandas/core/indexing.py\u001b[0m in \u001b[0;36m_validate_key\u001b[0;34m(self, key, axis)\u001b[0m\n\u001b[1;32m   1374\u001b[0m         \u001b[0;32melse\u001b[0m\u001b[0;34m:\u001b[0m\u001b[0;34m\u001b[0m\u001b[0;34m\u001b[0m\u001b[0m\n\u001b[0;32m-> 1375\u001b[0;31m             \u001b[0;32mraise\u001b[0m \u001b[0mValueError\u001b[0m\u001b[0;34m(\u001b[0m\u001b[0;34mf\"Can only index by location with a [{self._valid_types}]\"\u001b[0m\u001b[0;34m)\u001b[0m\u001b[0;34m\u001b[0m\u001b[0;34m\u001b[0m\u001b[0m\n\u001b[0m\u001b[1;32m   1376\u001b[0m \u001b[0;34m\u001b[0m\u001b[0m\n",
      "\u001b[0;31mValueError\u001b[0m: Can only index by location with a [integer, integer slice (START point is INCLUDED, END point is EXCLUDED), listlike of integers, boolean array]",
      "\nThe above exception was the direct cause of the following exception:\n",
      "\u001b[0;31mValueError\u001b[0m                                Traceback (most recent call last)",
      "\u001b[0;32m<ipython-input-29-34b12fa704eb>\u001b[0m in \u001b[0;36m<module>\u001b[0;34m\u001b[0m\n\u001b[1;32m      1\u001b[0m \u001b[0mcpanel\u001b[0m \u001b[0;34m=\u001b[0m \u001b[0mgeostacks_ui\u001b[0m\u001b[0;34m(\u001b[0m\u001b[0mspatial_index\u001b[0m\u001b[0;34m=\u001b[0m\u001b[0mls8_index\u001b[0m\u001b[0;34m)\u001b[0m\u001b[0;34m\u001b[0m\u001b[0;34m\u001b[0m\u001b[0m\n\u001b[0;32m----> 2\u001b[0;31m \u001b[0mcpanel\u001b[0m\u001b[0;34m.\u001b[0m\u001b[0mgen_ui\u001b[0m\u001b[0;34m(\u001b[0m\u001b[0;34m)\u001b[0m\u001b[0;34m\u001b[0m\u001b[0;34m\u001b[0m\u001b[0m\n\u001b[0m",
      "\u001b[0;32m<ipython-input-28-cda57e9a4360>\u001b[0m in \u001b[0;36mgen_ui\u001b[0;34m(self, spatial_index)\u001b[0m\n\u001b[1;32m     39\u001b[0m             \u001b[0mself\u001b[0m\u001b[0;34m.\u001b[0m\u001b[0mspatial_index\u001b[0m \u001b[0;34m=\u001b[0m \u001b[0mspatial_index\u001b[0m\u001b[0;34m\u001b[0m\u001b[0;34m\u001b[0m\u001b[0m\n\u001b[1;32m     40\u001b[0m \u001b[0;34m\u001b[0m\u001b[0m\n\u001b[0;32m---> 41\u001b[0;31m         \u001b[0mself\u001b[0m\u001b[0;34m.\u001b[0m\u001b[0minit_panelleft\u001b[0m\u001b[0;34m(\u001b[0m\u001b[0;34m)\u001b[0m\u001b[0;34m\u001b[0m\u001b[0;34m\u001b[0m\u001b[0m\n\u001b[0m\u001b[1;32m     42\u001b[0m         \u001b[0mself\u001b[0m\u001b[0;34m.\u001b[0m\u001b[0minit_map\u001b[0m\u001b[0;34m(\u001b[0m\u001b[0;34m)\u001b[0m\u001b[0;34m\u001b[0m\u001b[0;34m\u001b[0m\u001b[0m\n\u001b[1;32m     43\u001b[0m \u001b[0;34m\u001b[0m\u001b[0m\n",
      "\u001b[0;32m<ipython-input-28-cda57e9a4360>\u001b[0m in \u001b[0;36minit_panelleft\u001b[0;34m(self)\u001b[0m\n\u001b[1;32m     21\u001b[0m         \u001b[0mself\u001b[0m\u001b[0;34m.\u001b[0m\u001b[0mui_title\u001b[0m \u001b[0;34m=\u001b[0m \u001b[0miwg\u001b[0m\u001b[0;34m.\u001b[0m\u001b[0mHTML\u001b[0m\u001b[0;34m(\u001b[0m\u001b[0;34m\"<h2>Drag the marker to your region of interest</h2>\"\u001b[0m\u001b[0;34m)\u001b[0m\u001b[0;34m\u001b[0m\u001b[0;34m\u001b[0m\u001b[0m\n\u001b[1;32m     22\u001b[0m         \u001b[0mself\u001b[0m\u001b[0;34m.\u001b[0m\u001b[0midxs\u001b[0m \u001b[0;34m=\u001b[0m \u001b[0mself\u001b[0m\u001b[0;34m.\u001b[0m\u001b[0mspatial_index\u001b[0m\u001b[0;34m.\u001b[0m\u001b[0mquery_pathrow\u001b[0m\u001b[0;34m(\u001b[0m\u001b[0mself\u001b[0m\u001b[0;34m.\u001b[0m\u001b[0mlat\u001b[0m\u001b[0;34m,\u001b[0m\u001b[0mself\u001b[0m\u001b[0;34m.\u001b[0m\u001b[0mlon\u001b[0m\u001b[0;34m)\u001b[0m\u001b[0;34m\u001b[0m\u001b[0;34m\u001b[0m\u001b[0m\n\u001b[0;32m---> 23\u001b[0;31m         self.prlist = [('{:03d}/{:03d}'.format(self.spatial_index.corner_pts_df.iloc[i, 'path'], \n\u001b[0m\u001b[1;32m     24\u001b[0m                                                self.spatial_index.corner_pts_df.iloc[i, 'row']) ,\n\u001b[1;32m     25\u001b[0m                         i) for i in self.idxs]\n",
      "\u001b[0;32m<ipython-input-28-cda57e9a4360>\u001b[0m in \u001b[0;36m<listcomp>\u001b[0;34m(.0)\u001b[0m\n\u001b[1;32m     21\u001b[0m         \u001b[0mself\u001b[0m\u001b[0;34m.\u001b[0m\u001b[0mui_title\u001b[0m \u001b[0;34m=\u001b[0m \u001b[0miwg\u001b[0m\u001b[0;34m.\u001b[0m\u001b[0mHTML\u001b[0m\u001b[0;34m(\u001b[0m\u001b[0;34m\"<h2>Drag the marker to your region of interest</h2>\"\u001b[0m\u001b[0;34m)\u001b[0m\u001b[0;34m\u001b[0m\u001b[0;34m\u001b[0m\u001b[0m\n\u001b[1;32m     22\u001b[0m         \u001b[0mself\u001b[0m\u001b[0;34m.\u001b[0m\u001b[0midxs\u001b[0m \u001b[0;34m=\u001b[0m \u001b[0mself\u001b[0m\u001b[0;34m.\u001b[0m\u001b[0mspatial_index\u001b[0m\u001b[0;34m.\u001b[0m\u001b[0mquery_pathrow\u001b[0m\u001b[0;34m(\u001b[0m\u001b[0mself\u001b[0m\u001b[0;34m.\u001b[0m\u001b[0mlat\u001b[0m\u001b[0;34m,\u001b[0m\u001b[0mself\u001b[0m\u001b[0;34m.\u001b[0m\u001b[0mlon\u001b[0m\u001b[0;34m)\u001b[0m\u001b[0;34m\u001b[0m\u001b[0;34m\u001b[0m\u001b[0m\n\u001b[0;32m---> 23\u001b[0;31m         self.prlist = [('{:03d}/{:03d}'.format(self.spatial_index.corner_pts_df.iloc[i, 'path'], \n\u001b[0m\u001b[1;32m     24\u001b[0m                                                self.spatial_index.corner_pts_df.iloc[i, 'row']) ,\n\u001b[1;32m     25\u001b[0m                         i) for i in self.idxs]\n",
      "\u001b[0;32m/nix/store/jx0vjrvr60phbmjbp1df0pjy33m2iw0l-python3-3.8.9-env/lib/python3.8/site-packages/pandas/core/indexing.py\u001b[0m in \u001b[0;36m__getitem__\u001b[0;34m(self, key)\u001b[0m\n\u001b[1;32m    887\u001b[0m                     \u001b[0;31m# AttributeError for IntervalTree get_value\u001b[0m\u001b[0;34m\u001b[0m\u001b[0;34m\u001b[0m\u001b[0;34m\u001b[0m\u001b[0m\n\u001b[1;32m    888\u001b[0m                     \u001b[0;32mreturn\u001b[0m \u001b[0mself\u001b[0m\u001b[0;34m.\u001b[0m\u001b[0mobj\u001b[0m\u001b[0;34m.\u001b[0m\u001b[0m_get_value\u001b[0m\u001b[0;34m(\u001b[0m\u001b[0;34m*\u001b[0m\u001b[0mkey\u001b[0m\u001b[0;34m,\u001b[0m \u001b[0mtakeable\u001b[0m\u001b[0;34m=\u001b[0m\u001b[0mself\u001b[0m\u001b[0;34m.\u001b[0m\u001b[0m_takeable\u001b[0m\u001b[0;34m)\u001b[0m\u001b[0;34m\u001b[0m\u001b[0;34m\u001b[0m\u001b[0m\n\u001b[0;32m--> 889\u001b[0;31m             \u001b[0;32mreturn\u001b[0m \u001b[0mself\u001b[0m\u001b[0;34m.\u001b[0m\u001b[0m_getitem_tuple\u001b[0m\u001b[0;34m(\u001b[0m\u001b[0mkey\u001b[0m\u001b[0;34m)\u001b[0m\u001b[0;34m\u001b[0m\u001b[0;34m\u001b[0m\u001b[0m\n\u001b[0m\u001b[1;32m    890\u001b[0m         \u001b[0;32melse\u001b[0m\u001b[0;34m:\u001b[0m\u001b[0;34m\u001b[0m\u001b[0;34m\u001b[0m\u001b[0m\n\u001b[1;32m    891\u001b[0m             \u001b[0;31m# we by definition only have the 0th axis\u001b[0m\u001b[0;34m\u001b[0m\u001b[0;34m\u001b[0m\u001b[0;34m\u001b[0m\u001b[0m\n",
      "\u001b[0;32m/nix/store/jx0vjrvr60phbmjbp1df0pjy33m2iw0l-python3-3.8.9-env/lib/python3.8/site-packages/pandas/core/indexing.py\u001b[0m in \u001b[0;36m_getitem_tuple\u001b[0;34m(self, tup)\u001b[0m\n\u001b[1;32m   1448\u001b[0m     \u001b[0;32mdef\u001b[0m \u001b[0m_getitem_tuple\u001b[0m\u001b[0;34m(\u001b[0m\u001b[0mself\u001b[0m\u001b[0;34m,\u001b[0m \u001b[0mtup\u001b[0m\u001b[0;34m:\u001b[0m \u001b[0mTuple\u001b[0m\u001b[0;34m)\u001b[0m\u001b[0;34m:\u001b[0m\u001b[0;34m\u001b[0m\u001b[0;34m\u001b[0m\u001b[0m\n\u001b[1;32m   1449\u001b[0m \u001b[0;34m\u001b[0m\u001b[0m\n\u001b[0;32m-> 1450\u001b[0;31m         \u001b[0mself\u001b[0m\u001b[0;34m.\u001b[0m\u001b[0m_has_valid_tuple\u001b[0m\u001b[0;34m(\u001b[0m\u001b[0mtup\u001b[0m\u001b[0;34m)\u001b[0m\u001b[0;34m\u001b[0m\u001b[0;34m\u001b[0m\u001b[0m\n\u001b[0m\u001b[1;32m   1451\u001b[0m         \u001b[0;32mwith\u001b[0m \u001b[0msuppress\u001b[0m\u001b[0;34m(\u001b[0m\u001b[0mIndexingError\u001b[0m\u001b[0;34m)\u001b[0m\u001b[0;34m:\u001b[0m\u001b[0;34m\u001b[0m\u001b[0;34m\u001b[0m\u001b[0m\n\u001b[1;32m   1452\u001b[0m             \u001b[0;32mreturn\u001b[0m \u001b[0mself\u001b[0m\u001b[0;34m.\u001b[0m\u001b[0m_getitem_lowerdim\u001b[0m\u001b[0;34m(\u001b[0m\u001b[0mtup\u001b[0m\u001b[0;34m)\u001b[0m\u001b[0;34m\u001b[0m\u001b[0;34m\u001b[0m\u001b[0m\n",
      "\u001b[0;32m/nix/store/jx0vjrvr60phbmjbp1df0pjy33m2iw0l-python3-3.8.9-env/lib/python3.8/site-packages/pandas/core/indexing.py\u001b[0m in \u001b[0;36m_has_valid_tuple\u001b[0;34m(self, key)\u001b[0m\n\u001b[1;32m    723\u001b[0m                 \u001b[0mself\u001b[0m\u001b[0;34m.\u001b[0m\u001b[0m_validate_key\u001b[0m\u001b[0;34m(\u001b[0m\u001b[0mk\u001b[0m\u001b[0;34m,\u001b[0m \u001b[0mi\u001b[0m\u001b[0;34m)\u001b[0m\u001b[0;34m\u001b[0m\u001b[0;34m\u001b[0m\u001b[0m\n\u001b[1;32m    724\u001b[0m             \u001b[0;32mexcept\u001b[0m \u001b[0mValueError\u001b[0m \u001b[0;32mas\u001b[0m \u001b[0merr\u001b[0m\u001b[0;34m:\u001b[0m\u001b[0;34m\u001b[0m\u001b[0;34m\u001b[0m\u001b[0m\n\u001b[0;32m--> 725\u001b[0;31m                 raise ValueError(\n\u001b[0m\u001b[1;32m    726\u001b[0m                     \u001b[0;34m\"Location based indexing can only have \"\u001b[0m\u001b[0;34m\u001b[0m\u001b[0;34m\u001b[0m\u001b[0m\n\u001b[1;32m    727\u001b[0m                     \u001b[0;34mf\"[{self._valid_types}] types\"\u001b[0m\u001b[0;34m\u001b[0m\u001b[0;34m\u001b[0m\u001b[0m\n",
      "\u001b[0;31mValueError\u001b[0m: Location based indexing can only have [integer, integer slice (START point is INCLUDED, END point is EXCLUDED), listlike of integers, boolean array] types"
     ]
    }
   ],
   "source": [
    "cpanel = geostacks_ui(spatial_index=ls8_index)\n",
    "cpanel.gen_ui()"
   ]
  },
  {
   "cell_type": "code",
   "execution_count": null,
   "id": "closing-conjunction",
   "metadata": {},
   "outputs": [],
   "source": []
  }
 ],
 "metadata": {
  "kernelspec": {
   "display_name": "Python 3",
   "language": "python",
   "name": "python3"
  },
  "language_info": {
   "codemirror_mode": {
    "name": "ipython",
    "version": 3
   },
   "file_extension": ".py",
   "mimetype": "text/x-python",
   "name": "python",
   "nbconvert_exporter": "python",
   "pygments_lexer": "ipython3",
   "version": "3.9.4"
  }
 },
 "nbformat": 4,
 "nbformat_minor": 5
}
