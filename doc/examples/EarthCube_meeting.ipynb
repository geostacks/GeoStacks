{
 "cells": [
  {
   "cell_type": "code",
   "execution_count": 1,
   "id": "threaded-destiny",
   "metadata": {},
   "outputs": [],
   "source": [
    "# Autoreload extension\n",
    "%load_ext autoreload\n",
    "%autoreload 2"
   ]
  },
  {
   "cell_type": "code",
   "execution_count": 2,
   "id": "biblical-madagascar",
   "metadata": {},
   "outputs": [],
   "source": [
    "# Add path to geostacks\n",
    "import sys\n",
    "sys.path.insert(0, '../../')"
   ]
  },
  {
   "cell_type": "code",
   "execution_count": 12,
   "id": "broadband-ocean",
   "metadata": {},
   "outputs": [],
   "source": [
    "# Load geostacks\n",
    "from geostacks import SpatialIndexLS8\n",
    "\n",
    "# Load UI components\n",
    "import ipyleaflet as ilfl\n",
    "import ipywidgets as iwg"
   ]
  },
  {
   "cell_type": "code",
   "execution_count": 14,
   "id": "regional-martin",
   "metadata": {},
   "outputs": [
    {
     "name": "stdout",
     "output_type": "stream",
     "text": [
      "       path  row    lon_CTR    lat_CTR  \\\n",
      "0         1    2  -4.197763  80.002493   \n",
      "1         1    3 -10.561457  79.111023   \n",
      "2         1    4 -15.970556  78.118527   \n",
      "3         1    5 -20.471403  77.048224   \n",
      "4         1    6 -24.338152  75.902095   \n",
      "...     ...  ...        ...        ...   \n",
      "21898   233  242  44.207091  80.008794   \n",
      "21899   233  243  36.728885  80.760793   \n",
      "21900   233  244  28.123821  81.338812   \n",
      "21901   233  245  18.551148  81.705630   \n",
      "21902   233  248 -11.314870  81.338539   \n",
      "\n",
      "                                                geometry  \n",
      "0      POLYGON ((-2.73002 81.20570, 2.59456 79.71746,...  \n",
      "1      POLYGON ((-9.99477 80.33234, -4.15668 78.95795...  \n",
      "2      POLYGON ((-16.04544 79.34425, -10.01855 78.079...  \n",
      "3      POLYGON ((-20.97844 78.26901, -14.98803 77.105...  \n",
      "4      POLYGON ((-25.13378 77.11339, -19.30751 76.041...  \n",
      "...                                                  ...  \n",
      "21898  POLYGON ((51.28225 80.15426, 45.38953 78.79931...  \n",
      "21899  POLYGON ((44.27339 81.05282, 38.82326 79.58492...  \n",
      "21900  POLYGON ((35.89000 81.79801, 31.32504 80.22170...  \n",
      "21901  POLYGON ((26.54158 82.32623, 23.32388 80.66332...  \n",
      "21902  POLYGON ((-7.24108 82.42211, -4.41066 80.74283...  \n",
      "\n",
      "[21903 rows x 5 columns]\n",
      "------------------\n",
      "      path  row    lon_CTR    lat_CTR  \\\n",
      "695      8   11 -47.813174  69.606470   \n",
      "696      8   12 -49.506130  68.279699   \n",
      "782      9   11 -49.355231  69.606482   \n",
      "783      9   12 -51.046291  68.279697   \n",
      "866     10   11 -50.895321  69.606439   \n",
      "6845    81  233 -48.202833  69.606467   \n",
      "6915    82  233 -49.749759  69.606440   \n",
      "7017    83  232 -49.604053  68.279726   \n",
      "7018    83  233 -51.293647  69.606447   \n",
      "7087    84  232 -51.145138  68.279691   \n",
      "\n",
      "                                               geometry  \n",
      "695   POLYGON ((-49.04594 70.75626, -44.45141 69.997...  \n",
      "696   POLYGON ((-50.74347 69.41965, -46.36735 68.700...  \n",
      "782   POLYGON ((-50.58956 70.75716, -45.99051 69.997...  \n",
      "783   POLYGON ((-52.28549 69.42048, -47.90452 68.700...  \n",
      "866   POLYGON ((-52.13270 70.75647, -47.53033 69.996...  \n",
      "6845  POLYGON ((-44.96551 69.15807, -49.29514 68.442...  \n",
      "6915  POLYGON ((-46.51348 69.16081, -50.84713 68.444...  \n",
      "7017  POLYGON ((-46.58181 67.80603, -50.70937 67.125...  \n",
      "7018  POLYGON ((-48.05298 69.15870, -52.38942 68.442...  \n",
      "7087  POLYGON ((-48.12431 67.80870, -52.25525 67.127...  \n"
     ]
    }
   ],
   "source": [
    "ls8_index = SpatialIndexLS8('../../LANDSAT_8_C1_cornerpoints.csv')\n",
    "ls8_index.read()\n",
    "print(ls8_index.footprint)\n",
    "print('------------------')\n",
    "\n",
    "query_pt = [-50., 69.]\n",
    "idxs = ls8_index.query_pathrow(query_pt)\n",
    "print(ls8_index.footprint.loc[idxs])"
   ]
  },
  {
   "cell_type": "code",
   "execution_count": 15,
   "id": "permanent-rugby",
   "metadata": {},
   "outputs": [],
   "source": [
    "class geostacks_ui():\n",
    "    \n",
    "    def __init__(self, zoom=4, query_pt=[-50., 69.], spatial_index=None):\n",
    "        \n",
    "        self.zoom = zoom\n",
    "        self.query_pt = query_pt\n",
    "        self.mainmap = None\n",
    "        self.marker = None\n",
    "        self.idxs = None\n",
    "        self.ui_title = None\n",
    "        self.prlist = []\n",
    "        self.menuleft = None     # path / row menu\n",
    "        self.pr_selection = None\n",
    "        self.map_polygon = None\n",
    "        self.spatial_index = spatial_index\n",
    "        self.output = None       # print message output (unused for now)\n",
    "        self.results = None      # store results (unused for now)\n",
    "        \n",
    "    def init_panelleft(self):\n",
    "        self.ui_title = iwg.HTML(\"<h2>Drag the marker to your region of interest</h2>\")\n",
    "        self.idxs = self.spatial_index.query_pathrow(self.query_pt)\n",
    "        self.prlist = [('{:03d}/{:03d}'.format(self.spatial_index.footprint.loc[i, 'path'], self.spatial_index.footprint.loc[i, 'row']) ,i) for i in self.idxs]\n",
    "        self.menuleft = iwg.Select(options=self.prlist, description='Path/Row:', rows=15)\n",
    "        \n",
    "    def init_map(self):\n",
    "        self.mainmap = ilfl.Map(basemap=ilfl.basemaps.Gaode.Satellite, center=[self.query_pt[-1], self.query_pt[0]], zoom=self.zoom)\n",
    "        self.marker = ilfl.Marker(location=[self.query_pt[-1], self.query_pt[0]], draggable=True)\n",
    "        self.mainmap.add_layer(self.marker)\n",
    "        self.pr_selection = self.idxs[0]\n",
    "        self.map_polygon = ilfl.WKTLayer(wkt_string=self.spatial_index.footprint.loc[self.pr_selection].geometry.wkt)\n",
    "        self.mainmap.add_layer(self.map_polygon)\n",
    "        \n",
    "    def gen_ui(self, spatial_index=None):\n",
    "        if self.spatial_index is None:\n",
    "            self.spatial_index = spatial_index\n",
    "        \n",
    "        self.init_panelleft()\n",
    "        self.init_map()\n",
    "        \n",
    "        self.marker.observe(self._on_location_changed, 'location')\n",
    "        self.menuleft.observe(self._on_menuleft_selection_changed, names='value')\n",
    "        leftside = iwg.VBox([self.ui_title, self.menuleft])\n",
    "        leftside.layout.align_items = 'center'\n",
    "        return iwg.AppLayout(left_sidebar=leftside, center=self.mainmap)\n",
    "\n",
    "    # ==== leftmenu update when map marker loc changes\n",
    "    \n",
    "    def _on_location_changed(self, event):\n",
    "        self.query_pt = [self.marker.location[-1], self.marker.location[0]]\n",
    "        self.idxs = self.spatial_index.query_pathrow(self.query_pt)\n",
    "        self.prlist = [('{:03d}/{:03d}'.format(self.spatial_index.footprint.loc[i, 'path'], self.spatial_index.footprint.loc[i, 'row']) ,i) for i in self.idxs]\n",
    "        self.menuleft.options = self.prlist\n",
    "        \n",
    "    # ==== map polygon update when leftmenu selection changes\n",
    "\n",
    "    def _on_menuleft_selection_changed(self, change):\n",
    "        self.pr_selection = change['new']\n",
    "        self.map_polygon.wkt_string=self.spatial_index.footprint.loc[self.pr_selection].geometry.wkt\n"
   ]
  },
  {
   "cell_type": "code",
   "execution_count": 16,
   "id": "congressional-drove",
   "metadata": {},
   "outputs": [
    {
     "data": {
      "application/vnd.jupyter.widget-view+json": {
       "model_id": "9e655e3cad56457c8f08f04ab0010faa",
       "version_major": 2,
       "version_minor": 0
      },
      "text/plain": [
       "AppLayout(children=(VBox(children=(HTML(value='<h2>Drag the marker to your region of interest</h2>'), Select(d…"
      ]
     },
     "metadata": {},
     "output_type": "display_data"
    }
   ],
   "source": [
    "cpanel = geostacks_ui(spatial_index=ls8_index)\n",
    "cpanel.gen_ui()"
   ]
  },
  {
   "cell_type": "code",
   "execution_count": null,
   "id": "closing-conjunction",
   "metadata": {},
   "outputs": [],
   "source": []
  }
 ],
 "metadata": {
  "kernelspec": {
   "display_name": "Python 3",
   "language": "python",
   "name": "python3"
  },
  "language_info": {
   "codemirror_mode": {
    "name": "ipython",
    "version": 3
   },
   "file_extension": ".py",
   "mimetype": "text/x-python",
   "name": "python",
   "nbconvert_exporter": "python",
   "pygments_lexer": "ipython3",
   "version": "3.9.2"
  }
 },
 "nbformat": 4,
 "nbformat_minor": 5
}
